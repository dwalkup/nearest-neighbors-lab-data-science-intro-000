{
 "cells": [
  {
   "cell_type": "markdown",
   "metadata": {},
   "source": [
    "# Nearest Neighbors Lab"
   ]
  },
  {
   "cell_type": "markdown",
   "metadata": {},
   "source": [
    "### Introduction\n",
    "\n",
    "In this lab, you apply nearest neighbors technique to help a taxi company predict the length of their rides.  Imagine that we are hired to consult for LiftOff, a limo and taxi service that is just opening up in NYC.  Liftoff wants it's taxi drivers to target longer rides, as the longer the ride the more money it makes.  LiftOff has the following theory:\n",
    "\n",
    "* the pickup location of a taxi ride can help predict the length of the ride.  \n",
    "\n",
    "\n",
    "\n",
    "LiftOff asks us to do some analysis to write a function that will allow it to **predict the length of a taxi ride for any given location **.\n",
    "\n",
    "Our technique will be the following:\n",
    "  * **Collect** Obtain the data containing all of the taxi information, and only select the attributes of taxi trips that we need \n",
    "  * ** Explore ** Examine the attributes of our data, and plot some of our data on a map\n",
    "  * ** Train ** Write our nearest neighbors formula, and change the number of nearby trips to predict the length of a new trip\n",
    "  * ** Predict ** Use our function to predict trip lengths of new locations"
   ]
  },
  {
   "cell_type": "markdown",
   "metadata": {},
   "source": [
    "### Collect and Explore the data"
   ]
  },
  {
   "cell_type": "markdown",
   "metadata": {},
   "source": [
    "#### Collect the Data"
   ]
  },
  {
   "cell_type": "markdown",
   "metadata": {},
   "source": [
    "Luckily for us, [NYC Open Data](https://opendata.cityofnewyork.us/) collects information about NYC taxi trips and provides this data on [its website](https://data.cityofnewyork.us/Transportation/2014-Yellow-Taxi-Trip-Data/gn7m-em8n)."
   ]
  },
  {
   "cell_type": "markdown",
   "metadata": {},
   "source": [
    "![](./nyc-taxi.png)"
   ]
  },
  {
   "cell_type": "markdown",
   "metadata": {},
   "source": [
    "For your reading pleasure, the data has already been downloaded into the [trips.json](https://github.com/learn-co-curriculum/nearest-neighbors-lab/blob/master/trips.json) file in this lab which you can find here.  We'll use Python's `json` library to take the data from the `trips.json` file and store it as a variable in our notebook."
   ]
  },
  {
   "cell_type": "code",
   "execution_count": 1,
   "metadata": {},
   "outputs": [],
   "source": [
    "import json\n",
    "# First, read the file\n",
    "trips_file = open('trips.json')\n",
    "# Then, convert contents to list of dictionaries \n",
    "trips = json.load(trips_file)"
   ]
  },
  {
   "cell_type": "markdown",
   "metadata": {},
   "source": [
    "> Press shift + enter"
   ]
  },
  {
   "cell_type": "markdown",
   "metadata": {},
   "source": [
    "#### Explore the data"
   ]
  },
  {
   "cell_type": "markdown",
   "metadata": {},
   "source": [
    "The next step is to explore the data.  First, let's see how many trips we have."
   ]
  },
  {
   "cell_type": "code",
   "execution_count": 2,
   "metadata": {},
   "outputs": [
    {
     "data": {
      "text/plain": [
       "1000"
      ]
     },
     "execution_count": 2,
     "metadata": {},
     "output_type": "execute_result"
    }
   ],
   "source": [
    "len(trips)"
   ]
  },
  {
   "cell_type": "markdown",
   "metadata": {},
   "source": [
    "Not bad at all.  Now let's see what each individual trip looks like.  Each trip is a dictionary, so we can see the attributes of each trip with the `keys` function."
   ]
  },
  {
   "cell_type": "code",
   "execution_count": 3,
   "metadata": {
    "scrolled": true
   },
   "outputs": [
    {
     "data": {
      "text/plain": [
       "dict_keys(['dropoff_datetime', 'dropoff_latitude', 'dropoff_longitude', 'fare_amount', 'imp_surcharge', 'mta_tax', 'passenger_count', 'payment_type', 'pickup_datetime', 'pickup_latitude', 'pickup_longitude', 'rate_code', 'tip_amount', 'tolls_amount', 'total_amount', 'trip_distance', 'vendor_id'])"
      ]
     },
     "execution_count": 3,
     "metadata": {},
     "output_type": "execute_result"
    }
   ],
   "source": [
    "trips[0].keys()"
   ]
  },
  {
   "cell_type": "markdown",
   "metadata": {},
   "source": [
    "#### Limit our data"
   ]
  },
  {
   "cell_type": "markdown",
   "metadata": {},
   "source": [
    "Ok, now that we have explored some of our data, let's begin to think through what data is relevant for our task."
   ]
  },
  {
   "cell_type": "markdown",
   "metadata": {
    "collapsed": true
   },
   "source": [
    "Remember that our task is to **use the trip location to predict the length of a trip**.  So let's select the `pickup_latitude`, `pickup_longitude`, and `trip_distance` from each trip.  That will give us the trip location and related `trip_distance` for each trip.  Then based on these **actual** trip distances we can use nearest neighbors to predict an **expected** trip distance for a trip, provided an **actual** location."
   ]
  },
  {
   "cell_type": "markdown",
   "metadata": {},
   "source": [
    "** Add in about trip distance ** "
   ]
  },
  {
   "cell_type": "markdown",
   "metadata": {},
   "source": [
    "Write a function called `parse_trips(trips)` that returns a list of the trips with only the following attributes: \n",
    "* `trip_distance`\n",
    "* `pickup_latitude`\n",
    "* `pickup_longitude`"
   ]
  },
  {
   "cell_type": "code",
   "execution_count": 30,
   "metadata": {},
   "outputs": [],
   "source": [
    "def parse_trips(trips):\n",
    "    return list(map(lambda trip : {'pickup_latitude':trip['pickup_latitude'], 'pickup_longitude':trip['pickup_longitude'], 'trip_distance':trip['trip_distance']}, trips))"
   ]
  },
  {
   "cell_type": "code",
   "execution_count": 31,
   "metadata": {},
   "outputs": [
    {
     "data": {
      "text/plain": [
       "{'pickup_latitude': '40.64499',\n",
       " 'pickup_longitude': '-73.781149999999997',\n",
       " 'trip_distance': '18.379999999999999'}"
      ]
     },
     "execution_count": 31,
     "metadata": {},
     "output_type": "execute_result"
    }
   ],
   "source": [
    "parsed_trips = parse_trips(trips)\n",
    "parsed_trips and parsed_trips[0]\n",
    "\n",
    "# {'pickup_latitude': '40.64499',\n",
    "#  'pickup_longitude': '-73.78115',\n",
    "#  'trip_distance': '18.38'}"
   ]
  },
  {
   "cell_type": "markdown",
   "metadata": {},
   "source": [
    "Now, there's just one change to make.  If you look at one of the trips, all of the values are strings.  Let's change them to be floats."
   ]
  },
  {
   "cell_type": "code",
   "execution_count": 32,
   "metadata": {},
   "outputs": [],
   "source": [
    "def float_values(trips):\n",
    "    return list(map(lambda trip : {'pickup_latitude':float(trip['pickup_latitude']), 'pickup_longitude':float(trip['pickup_longitude']), 'trip_distance':float(trip['trip_distance'])}, trips))"
   ]
  },
  {
   "cell_type": "code",
   "execution_count": 33,
   "metadata": {},
   "outputs": [],
   "source": [
    "cleaned_trips = float_values(parsed_trips)"
   ]
  },
  {
   "cell_type": "code",
   "execution_count": 34,
   "metadata": {},
   "outputs": [
    {
     "data": {
      "text/plain": [
       "{'pickup_latitude': 40.64499,\n",
       " 'pickup_longitude': -73.78115,\n",
       " 'trip_distance': 18.38}"
      ]
     },
     "execution_count": 34,
     "metadata": {},
     "output_type": "execute_result"
    }
   ],
   "source": [
    "cleaned_trips[0]\n",
    "\n",
    "# {'pickup_latitude': 40.64499,\n",
    "#  'pickup_longitude': -73.78115,\n",
    "#  'trip_distance': 18.38}"
   ]
  },
  {
   "cell_type": "markdown",
   "metadata": {},
   "source": [
    "### Exploring the Data"
   ]
  },
  {
   "cell_type": "markdown",
   "metadata": {},
   "source": [
    "Now that we have paired down our data, let's get a sense of our trip data.  We can use the `folium` Python library to plot a map of Manhattan, and our data.  First we must import `folium`, and then use the `Map` function to pass through a `location`, and `zoom_start`.  If a map isn't showing up below, copy and paste the command `pip install -r requirements.txt` into your terminal to install `folium` then try again."
   ]
  },
  {
   "cell_type": "code",
   "execution_count": 35,
   "metadata": {},
   "outputs": [],
   "source": [
    "import folium\n",
    "manhattan_map = folium.Map(location=[40.7589, -73.9851], zoom_start=11)"
   ]
  },
  {
   "cell_type": "code",
   "execution_count": 36,
   "metadata": {
    "scrolled": true
   },
   "outputs": [
    {
     "data": {
      "text/html": [
       "<div style=\"width:100%;\"><div style=\"position:relative;width:100%;height:0;padding-bottom:60%;\"><iframe src=\"data:text/html;charset=utf-8;base64,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\" style=\"position:absolute;width:100%;height:100%;left:0;top:0;border:none !important;\" allowfullscreen webkitallowfullscreen mozallowfullscreen></iframe></div></div>"
      ],
      "text/plain": [
       "<folium.folium.Map at 0x7fd4006e46a0>"
      ]
     },
     "execution_count": 36,
     "metadata": {},
     "output_type": "execute_result"
    }
   ],
   "source": [
    "manhattan_map"
   ]
  },
  {
   "cell_type": "markdown",
   "metadata": {},
   "source": [
    "Ok, now let's see how we could add a dot to mark a specific location.  We'll start with Times Square."
   ]
  },
  {
   "cell_type": "code",
   "execution_count": 37,
   "metadata": {},
   "outputs": [
    {
     "data": {
      "text/plain": [
       "<folium.vector_layers.CircleMarker at 0x7fd3cec8bda0>"
      ]
     },
     "execution_count": 37,
     "metadata": {},
     "output_type": "execute_result"
    }
   ],
   "source": [
    "marker = folium.CircleMarker(location = [40.7589, -73.9851], radius=10)\n",
    "marker.add_to(manhattan_map)"
   ]
  },
  {
   "cell_type": "markdown",
   "metadata": {},
   "source": [
    "Above, we first create a marker.  Then we add that circle marker to the `manhattan_map` we created earlier. "
   ]
  },
  {
   "cell_type": "code",
   "execution_count": 38,
   "metadata": {
    "scrolled": false
   },
   "outputs": [
    {
     "data": {
      "text/html": [
       "<div style=\"width:100%;\"><div style=\"position:relative;width:100%;height:0;padding-bottom:60%;\"><iframe src=\"data:text/html;charset=utf-8;base64,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\" style=\"position:absolute;width:100%;height:100%;left:0;top:0;border:none !important;\" allowfullscreen webkitallowfullscreen mozallowfullscreen></iframe></div></div>"
      ],
      "text/plain": [
       "<folium.folium.Map at 0x7fd4006e46a0>"
      ]
     },
     "execution_count": 38,
     "metadata": {},
     "output_type": "execute_result"
    }
   ],
   "source": [
    "manhattan_map"
   ]
  },
  {
   "cell_type": "markdown",
   "metadata": {},
   "source": [
    "Do you see that blue dot near Time's Square?  That is our marker.  \n",
    "\n",
    "So now that we can plot one marker on a map, we should have a sense of how we can plot many markers on a map to display our taxi ride data.  We simply plot a map, and then we add a marker for each location of a taxi trip.\n",
    "\n",
    "Now let's write some functions to allow us to plot maps and add markers a little more easily.  "
   ]
  },
  {
   "cell_type": "markdown",
   "metadata": {},
   "source": [
    "#### Writing some map plotting functions"
   ]
  },
  {
   "cell_type": "markdown",
   "metadata": {},
   "source": [
    "As a first step towards this, note that the functions to create both a marker and map each take in a location as two element list, representing the latitude and longitude values.  Take another look:\n",
    "\n",
    "```python\n",
    "marker = folium.CircleMarker(location = [40.7589, -73.9851])\n",
    "manhattan_map = folium.Map(location=[40.7589, -73.9851])\n",
    "```\n",
    "\n",
    "So let's write a function called to create this two element list from a trip.  Write a function called `location` that  takes in a trip as an argument and returns a list where the first element is the latitude and the second is the longitude.  Remember that a location looks like the following:"
   ]
  },
  {
   "cell_type": "code",
   "execution_count": 41,
   "metadata": {},
   "outputs": [
    {
     "data": {
      "text/plain": [
       "{'pickup_latitude': 40.64499,\n",
       " 'pickup_longitude': -73.78115,\n",
       " 'trip_distance': 18.38}"
      ]
     },
     "execution_count": 41,
     "metadata": {},
     "output_type": "execute_result"
    }
   ],
   "source": [
    "first_trip = {'pickup_latitude': 40.64499, 'pickup_longitude': -73.78115,  'trip_distance': 18.38}\n",
    "first_trip"
   ]
  },
  {
   "cell_type": "code",
   "execution_count": 44,
   "metadata": {},
   "outputs": [],
   "source": [
    "def location(trip):\n",
    "    return [trip['pickup_latitude'], trip['pickup_longitude']]"
   ]
  },
  {
   "cell_type": "code",
   "execution_count": 45,
   "metadata": {},
   "outputs": [
    {
     "data": {
      "text/plain": [
       "[40.64499, -73.78115]"
      ]
     },
     "execution_count": 45,
     "metadata": {},
     "output_type": "execute_result"
    }
   ],
   "source": [
    "first_location = location(first_trip) # [40.64499, -73.78115]\n",
    "first_location # [40.64499, -73.78115]"
   ]
  },
  {
   "cell_type": "markdown",
   "metadata": {},
   "source": [
    "Ok, now that we can turn a trip into a location, let's turn a location into a marker.  Write a function called `to_marker` that takes in a location (in the form of a list) as an argument, and returns a folium `circleMarker` for that location.  The radius of the marker should always equal 6."
   ]
  },
  {
   "cell_type": "code",
   "execution_count": 46,
   "metadata": {},
   "outputs": [],
   "source": [
    "def to_marker(location):\n",
    "    location_marker = folium.CircleMarker(location = location, radius = 6)\n",
    "    return location_marker"
   ]
  },
  {
   "cell_type": "code",
   "execution_count": 49,
   "metadata": {},
   "outputs": [
    {
     "data": {
      "text/plain": [
       "6"
      ]
     },
     "execution_count": 49,
     "metadata": {},
     "output_type": "execute_result"
    }
   ],
   "source": [
    "import json\n",
    "times_square_marker = to_marker([40.7589, -73.9851])\n",
    "\n",
    "times_square_marker and times_square_marker.location # [40.7589, -73.9851]\n",
    "times_square_marker and json.loads(times_square_marker.options)['radius'] # 6"
   ]
  },
  {
   "cell_type": "markdown",
   "metadata": {},
   "source": [
    "Ok, now that we know how to produce a single marker, let's write a function to produce lots.  We can write a function called `markers_from_trips` that takes in a list of trips, and returns a marker object for each trip.  "
   ]
  },
  {
   "cell_type": "code",
   "execution_count": 74,
   "metadata": {},
   "outputs": [],
   "source": [
    "def markers_from_trips(trips):\n",
    "    return list(map(to_marker, map(lambda trip: location(trip), trips)))"
   ]
  },
  {
   "cell_type": "code",
   "execution_count": 75,
   "metadata": {},
   "outputs": [],
   "source": [
    "trip_markers = markers_from_trips(cleaned_trips)"
   ]
  },
  {
   "cell_type": "code",
   "execution_count": 76,
   "metadata": {},
   "outputs": [
    {
     "data": {
      "text/plain": [
       "[{'pickup_latitude': 40.64499,\n",
       "  'pickup_longitude': -73.78115,\n",
       "  'trip_distance': 18.38},\n",
       " {'pickup_latitude': 40.766931,\n",
       "  'pickup_longitude': -73.982098,\n",
       "  'trip_distance': 1.3},\n",
       " {'pickup_latitude': 40.77773,\n",
       "  'pickup_longitude': -73.951902,\n",
       "  'trip_distance': 4.5},\n",
       " {'pickup_latitude': 40.795678,\n",
       "  'pickup_longitude': -73.971049,\n",
       "  'trip_distance': 2.4}]"
      ]
     },
     "execution_count": 76,
     "metadata": {},
     "output_type": "execute_result"
    }
   ],
   "source": [
    "cleaned_trips[0:4]"
   ]
  },
  {
   "cell_type": "code",
   "execution_count": 77,
   "metadata": {},
   "outputs": [
    {
     "data": {
      "text/plain": [
       "[[40.64499, -73.78115],\n",
       " [40.766931, -73.982098],\n",
       " [40.77773, -73.951902],\n",
       " [40.795678, -73.971049]]"
      ]
     },
     "execution_count": 77,
     "metadata": {},
     "output_type": "execute_result"
    }
   ],
   "source": [
    "trip_markers and len(trip_markers) # 1000\n",
    "\n",
    "list(map(lambda marker: marker.location, trip_markers[0:4]))\n",
    "# [[40.64499, -73.78115],\n",
    "#  [40.766931, -73.982098],\n",
    "#  [40.77773, -73.951902],\n",
    "#  [40.795678, -73.971049]]"
   ]
  },
  {
   "cell_type": "markdown",
   "metadata": {},
   "source": [
    "Ok, now that we have a function that creates locations, and a function that creates markers, it is time to write a function to plot a map. \n",
    "\n",
    "Write a function called `map_from` that, provided the first argument of a list location and second argument an integer representing the `zoom_start`, returns a `folium` map the corresponding location and `zoom_start` attributes.\n",
    "\n",
    "> Hint: The following is how to write a map with folium:\n",
    "> ```python \n",
    "    folium.Map(location=location, zoom_start=zoom_amount)\n",
    "> ```"
   ]
  },
  {
   "cell_type": "code",
   "execution_count": 78,
   "metadata": {},
   "outputs": [],
   "source": [
    "def map_from(location, zoom_amount):\n",
    "    return folium.Map(location = location, zoom_start = zoom_amount)"
   ]
  },
  {
   "cell_type": "code",
   "execution_count": 83,
   "metadata": {},
   "outputs": [
    {
     "data": {
      "text/html": [
       "<div style=\"width:100%;\"><div style=\"position:relative;width:100%;height:0;padding-bottom:60%;\"><iframe src=\"data:text/html;charset=utf-8;base64,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\" style=\"position:absolute;width:100%;height:100%;left:0;top:0;border:none !important;\" allowfullscreen webkitallowfullscreen mozallowfullscreen></iframe></div></div>"
      ],
      "text/plain": [
       "<folium.folium.Map at 0x7fd3ce87de80>"
      ]
     },
     "execution_count": 83,
     "metadata": {},
     "output_type": "execute_result"
    }
   ],
   "source": [
    "times_square_map = map_from([40.7589, -73.9851], 15)\n",
    "times_square_map and times_square_map.location # [40.7589, -73.9851]\n",
    "times_square_map and times_square_map.zoom_start # 15\n",
    "times_square_map"
   ]
  },
  {
   "cell_type": "code",
   "execution_count": 84,
   "metadata": {
    "scrolled": true
   },
   "outputs": [
    {
     "data": {
      "text/html": [
       "<div style=\"width:100%;\"><div style=\"position:relative;width:100%;height:0;padding-bottom:60%;\"><iframe src=\"data:text/html;charset=utf-8;base64,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\" style=\"position:absolute;width:100%;height:100%;left:0;top:0;border:none !important;\" allowfullscreen webkitallowfullscreen mozallowfullscreen></iframe></div></div>"
      ],
      "text/plain": [
       "<folium.folium.Map at 0x7fd3ce87de80>"
      ]
     },
     "execution_count": 84,
     "metadata": {},
     "output_type": "execute_result"
    }
   ],
   "source": [
    "times_square_marker and times_square_marker.add_to(times_square_map)\n",
    "times_square_map"
   ]
  },
  {
   "cell_type": "markdown",
   "metadata": {},
   "source": [
    "Now that we have a marker and a map, now let's write a function that adds a lot of markers to a map.  This function should add each marker in the list to the map object then return the updated map object."
   ]
  },
  {
   "cell_type": "code",
   "execution_count": 85,
   "metadata": {},
   "outputs": [],
   "source": [
    "manhattan_map = map_from([40.7589, -73.9851], 13)"
   ]
  },
  {
   "cell_type": "code",
   "execution_count": 100,
   "metadata": {},
   "outputs": [],
   "source": [
    "def add_markers(markers, map_obj):\n",
    "    for marker in markers:\n",
    "        marker.add_to(map_)"
   ]
  },
  {
   "cell_type": "code",
   "execution_count": 101,
   "metadata": {
    "scrolled": false
   },
   "outputs": [
    {
     "name": "stdout",
     "output_type": "stream",
     "text": [
      "[<folium.vector_layers.CircleMarker object at 0x7fd3ce9945f8>, <folium.vector_layers.CircleMarker object at 0x7fd3ce994630>, <folium.vector_layers.CircleMarker object at 0x7fd3ce994438>, <folium.vector_layers.CircleMarker object at 0x7fd3ce9949b0>, <folium.vector_layers.CircleMarker object at 0x7fd3ce994588>, <folium.vector_layers.CircleMarker object at 0x7fd3ce994828>, <folium.vector_layers.CircleMarker object at 0x7fd3ce994cf8>, <folium.vector_layers.CircleMarker object at 0x7fd3ce994cc0>, <folium.vector_layers.CircleMarker object at 0x7fd3ce994b38>, <folium.vector_layers.CircleMarker object at 0x7fd3ce994b00>, <folium.vector_layers.CircleMarker object at 0x7fd3ce9948d0>, <folium.vector_layers.CircleMarker object at 0x7fd3ce994978>, <folium.vector_layers.CircleMarker object at 0x7fd3ce994e10>, <folium.vector_layers.CircleMarker object at 0x7fd3ce994eb8>, <folium.vector_layers.CircleMarker object at 0x7fd3ce994f60>, <folium.vector_layers.CircleMarker object at 0x7fd3ce994ef0>, <folium.vector_layers.CircleMarker object at 0x7fd3ce7ac048>, <folium.vector_layers.CircleMarker object at 0x7fd3ce994518>, <folium.vector_layers.CircleMarker object at 0x7fd3ce994f28>, <folium.vector_layers.CircleMarker object at 0x7fd3ce994940>, <folium.vector_layers.CircleMarker object at 0x7fd3ce994a20>, <folium.vector_layers.CircleMarker object at 0x7fd3ce994ac8>, <folium.vector_layers.CircleMarker object at 0x7fd3ce994c50>, <folium.vector_layers.CircleMarker object at 0x7fd3ce994550>, <folium.vector_layers.CircleMarker object at 0x7fd3ce994c88>, <folium.vector_layers.CircleMarker object at 0x7fd3ce9946a0>, <folium.vector_layers.CircleMarker object at 0x7fd3ce9945c0>, <folium.vector_layers.CircleMarker object at 0x7fd3ce994128>, <folium.vector_layers.CircleMarker object at 0x7fd3ce9941d0>, <folium.vector_layers.CircleMarker object at 0x7fd3ce9942b0>, <folium.vector_layers.CircleMarker object at 0x7fd3ce9797b8>, <folium.vector_layers.CircleMarker object at 0x7fd3ce979e48>, <folium.vector_layers.CircleMarker object at 0x7fd3ce979710>, <folium.vector_layers.CircleMarker object at 0x7fd3ce979320>, <folium.vector_layers.CircleMarker object at 0x7fd3ce979b00>, <folium.vector_layers.CircleMarker object at 0x7fd3ce979cf8>, <folium.vector_layers.CircleMarker object at 0x7fd3ce84e208>, <folium.vector_layers.CircleMarker object at 0x7fd3ce979630>, <folium.vector_layers.CircleMarker object at 0x7fd3ce9680f0>, <folium.vector_layers.CircleMarker object at 0x7fd3ce9940f0>, <folium.vector_layers.CircleMarker object at 0x7fd3ce9944a8>, <folium.vector_layers.CircleMarker object at 0x7fd3ce9947b8>, <folium.vector_layers.CircleMarker object at 0x7fd3ce994b70>, <folium.vector_layers.CircleMarker object at 0x7fd3ce994be0>, <folium.vector_layers.CircleMarker object at 0x7fd3ce994a90>, <folium.vector_layers.CircleMarker object at 0x7fd3ce994c18>, <folium.vector_layers.CircleMarker object at 0x7fd3ce994da0>, <folium.vector_layers.CircleMarker object at 0x7fd3ce994a58>, <folium.vector_layers.CircleMarker object at 0x7fd3ce979f28>, <folium.vector_layers.CircleMarker object at 0x7fd3ce979a58>, <folium.vector_layers.CircleMarker object at 0x7fd3ce979b70>, <folium.vector_layers.CircleMarker object at 0x7fd3ce8359b0>, <folium.vector_layers.CircleMarker object at 0x7fd3ce979f98>, <folium.vector_layers.CircleMarker object at 0x7fd3ce979fd0>, <folium.vector_layers.CircleMarker object at 0x7fd3ce979da0>, <folium.vector_layers.CircleMarker object at 0x7fd3ce84eda0>, <folium.vector_layers.CircleMarker object at 0x7fd3ce84e0b8>, <folium.vector_layers.CircleMarker object at 0x7fd3ce968748>, <folium.vector_layers.CircleMarker object at 0x7fd3ce9680b8>, <folium.vector_layers.CircleMarker object at 0x7fd3ce968048>, <folium.vector_layers.CircleMarker object at 0x7fd3ce7ac198>, <folium.vector_layers.CircleMarker object at 0x7fd3ce7ac278>, <folium.vector_layers.CircleMarker object at 0x7fd3ce84e048>, <folium.vector_layers.CircleMarker object at 0x7fd3ce84ef60>, <folium.vector_layers.CircleMarker object at 0x7fd3ce968ba8>, <folium.vector_layers.CircleMarker object at 0x7fd3ce9791d0>, <folium.vector_layers.CircleMarker object at 0x7fd3ce979198>, <folium.vector_layers.CircleMarker object at 0x7fd3ce9795f8>, <folium.vector_layers.CircleMarker object at 0x7fd3ce979c88>, <folium.vector_layers.CircleMarker object at 0x7fd3ce979908>, <folium.vector_layers.CircleMarker object at 0x7fd3ce9949e8>, <folium.vector_layers.CircleMarker object at 0x7fd3ce994d30>, <folium.vector_layers.CircleMarker object at 0x7fd3ce994d68>, <folium.vector_layers.CircleMarker object at 0x7fd3ce994358>, <folium.vector_layers.CircleMarker object at 0x7fd3ce994dd8>, <folium.vector_layers.CircleMarker object at 0x7fd3ce994198>, <folium.vector_layers.CircleMarker object at 0x7fd3ce7ac160>, <folium.vector_layers.CircleMarker object at 0x7fd3ce7ac358>, <folium.vector_layers.CircleMarker object at 0x7fd3ce7ac2b0>, <folium.vector_layers.CircleMarker object at 0x7fd3ce7ac438>, <folium.vector_layers.CircleMarker object at 0x7fd3ce7ac4e0>, <folium.vector_layers.CircleMarker object at 0x7fd3ce7ac588>, <folium.vector_layers.CircleMarker object at 0x7fd3ce7ac630>, <folium.vector_layers.CircleMarker object at 0x7fd3ce7ac6d8>, <folium.vector_layers.CircleMarker object at 0x7fd3ce994668>, <folium.vector_layers.CircleMarker object at 0x7fd3ce9943c8>, <folium.vector_layers.CircleMarker object at 0x7fd3ce994ba8>, <folium.vector_layers.CircleMarker object at 0x7fd3ce994f98>, <folium.vector_layers.CircleMarker object at 0x7fd3ce9797f0>, <folium.vector_layers.CircleMarker object at 0x7fd3ce84eba8>, <folium.vector_layers.CircleMarker object at 0x7fd3ce968cc0>, <folium.vector_layers.CircleMarker object at 0x7fd3ce968fd0>, <folium.vector_layers.CircleMarker object at 0x7fd3ce979668>, <folium.vector_layers.CircleMarker object at 0x7fd3ce7ac5f8>, <folium.vector_layers.CircleMarker object at 0x7fd3ce7ac4a8>, <folium.vector_layers.CircleMarker object at 0x7fd3ce7ac128>, <folium.vector_layers.CircleMarker object at 0x7fd3ce7ac2e8>, <folium.vector_layers.CircleMarker object at 0x7fd3ce7ac0f0>, <folium.vector_layers.CircleMarker object at 0x7fd3ce7ac7f0>, <folium.vector_layers.CircleMarker object at 0x7fd3ce7ac828>, <folium.vector_layers.CircleMarker object at 0x7fd3ce7ac710>, <folium.vector_layers.CircleMarker object at 0x7fd3ce7ac908>, <folium.vector_layers.CircleMarker object at 0x7fd3ce7ac9b0>, <folium.vector_layers.CircleMarker object at 0x7fd3ce7aca58>, <folium.vector_layers.CircleMarker object at 0x7fd3ce7acb00>, <folium.vector_layers.CircleMarker object at 0x7fd3ce7acba8>, <folium.vector_layers.CircleMarker object at 0x7fd3ce968cf8>, <folium.vector_layers.CircleMarker object at 0x7fd3ce81fc88>, <folium.vector_layers.CircleMarker object at 0x7fd3ce979dd8>, <folium.vector_layers.CircleMarker object at 0x7fd3ce994e48>, <folium.vector_layers.CircleMarker object at 0x7fd3ce994e80>, <folium.vector_layers.CircleMarker object at 0x7fd3ce994208>, <folium.vector_layers.CircleMarker object at 0x7fd3ce7acac8>, <folium.vector_layers.CircleMarker object at 0x7fd3ce7ac978>, <folium.vector_layers.CircleMarker object at 0x7fd3ce7ac5c0>, <folium.vector_layers.CircleMarker object at 0x7fd3ce7ac668>, <folium.vector_layers.CircleMarker object at 0x7fd3ce7ac320>, <folium.vector_layers.CircleMarker object at 0x7fd3ce7ac208>, <folium.vector_layers.CircleMarker object at 0x7fd3ce7ac390>, <folium.vector_layers.CircleMarker object at 0x7fd3ce7ac748>, <folium.vector_layers.CircleMarker object at 0x7fd3ce7accc0>, <folium.vector_layers.CircleMarker object at 0x7fd3ce7accf8>, <folium.vector_layers.CircleMarker object at 0x7fd3ce7acbe0>, <folium.vector_layers.CircleMarker object at 0x7fd3ce7acdd8>, <folium.vector_layers.CircleMarker object at 0x7fd3ce7ace80>, <folium.vector_layers.CircleMarker object at 0x7fd3ce7acf28>, <folium.vector_layers.CircleMarker object at 0x7fd3ce7acfd0>, <folium.vector_layers.CircleMarker object at 0x7fd3ce994080>, <folium.vector_layers.CircleMarker object at 0x7fd3ce994fd0>, <folium.vector_layers.CircleMarker object at 0x7fd3ce968e48>, <folium.vector_layers.CircleMarker object at 0x7fd3ce979c50>, <folium.vector_layers.CircleMarker object at 0x7fd3ce7aceb8>, <folium.vector_layers.CircleMarker object at 0x7fd3ce7acd30>, <folium.vector_layers.CircleMarker object at 0x7fd3ce7aca90>, <folium.vector_layers.CircleMarker object at 0x7fd3ce7acb38>, <folium.vector_layers.CircleMarker object at 0x7fd3ce7ac1d0>, <folium.vector_layers.CircleMarker object at 0x7fd3ce7ac400>, <folium.vector_layers.CircleMarker object at 0x7fd3ce7ac7b8>, <folium.vector_layers.CircleMarker object at 0x7fd3ce7ac0b8>, <folium.vector_layers.CircleMarker object at 0x7fd3ce7ac860>, <folium.vector_layers.CircleMarker object at 0x7fd3ce7acc18>, <folium.vector_layers.CircleMarker object at 0x7fd3ce7ac940>, <folium.vector_layers.CircleMarker object at 0x7fd3ce7680f0>, <folium.vector_layers.CircleMarker object at 0x7fd3ce768208>, <folium.vector_layers.CircleMarker object at 0x7fd3ce7682b0>, <folium.vector_layers.CircleMarker object at 0x7fd3ce768358>, <folium.vector_layers.CircleMarker object at 0x7fd3ce768400>, <folium.vector_layers.CircleMarker object at 0x7fd3ce7684a8>, <folium.vector_layers.CircleMarker object at 0x7fd3ce768550>, <folium.vector_layers.CircleMarker object at 0x7fd3ce7acf98>, <folium.vector_layers.CircleMarker object at 0x7fd3ce7ac8d0>, <folium.vector_layers.CircleMarker object at 0x7fd3ce7acd68>, <folium.vector_layers.CircleMarker object at 0x7fd3ce7acc50>, <folium.vector_layers.CircleMarker object at 0x7fd3ce84e668>, <folium.vector_layers.CircleMarker object at 0x7fd3ce994908>, <folium.vector_layers.CircleMarker object at 0x7fd3ce7ac3c8>, <folium.vector_layers.CircleMarker object at 0x7fd3ce7ac080>, <folium.vector_layers.CircleMarker object at 0x7fd3ce9793c8>, <folium.vector_layers.CircleMarker object at 0x7fd3ce768390>, <folium.vector_layers.CircleMarker object at 0x7fd3ce7683c8>, <folium.vector_layers.CircleMarker object at 0x7fd3ce768278>, <folium.vector_layers.CircleMarker object at 0x7fd3ce7680b8>, <folium.vector_layers.CircleMarker object at 0x7fd3ce7685f8>, <folium.vector_layers.CircleMarker object at 0x7fd3ce7684e0>, <folium.vector_layers.CircleMarker object at 0x7fd3ce768710>, <folium.vector_layers.CircleMarker object at 0x7fd3ce768748>, <folium.vector_layers.CircleMarker object at 0x7fd3ce7687f0>, <folium.vector_layers.CircleMarker object at 0x7fd3ce768898>, <folium.vector_layers.CircleMarker object at 0x7fd3ce768940>, <folium.vector_layers.CircleMarker object at 0x7fd3ce7689e8>, <folium.vector_layers.CircleMarker object at 0x7fd3ce768a90>, <folium.vector_layers.CircleMarker object at 0x7fd3ce979550>, <folium.vector_layers.CircleMarker object at 0x7fd3ce994860>, <folium.vector_layers.CircleMarker object at 0x7fd3ce7ac518>, <folium.vector_layers.CircleMarker object at 0x7fd3ce7ace48>, <folium.vector_layers.CircleMarker object at 0x7fd3ce7ac898>, <folium.vector_layers.CircleMarker object at 0x7fd3ce7ac470>, <folium.vector_layers.CircleMarker object at 0x7fd3ce7689b0>, <folium.vector_layers.CircleMarker object at 0x7fd3ce768860>, <folium.vector_layers.CircleMarker object at 0x7fd3ce768668>, <folium.vector_layers.CircleMarker object at 0x7fd3ce7686d8>, <folium.vector_layers.CircleMarker object at 0x7fd3ce768128>, <folium.vector_layers.CircleMarker object at 0x7fd3ce768160>, <folium.vector_layers.CircleMarker object at 0x7fd3ce768470>, <folium.vector_layers.CircleMarker object at 0x7fd3ce768b38>, <folium.vector_layers.CircleMarker object at 0x7fd3ce768a20>, <folium.vector_layers.CircleMarker object at 0x7fd3ce768c50>, <folium.vector_layers.CircleMarker object at 0x7fd3ce768c88>, <folium.vector_layers.CircleMarker object at 0x7fd3ce768d30>, <folium.vector_layers.CircleMarker object at 0x7fd3ce768dd8>, <folium.vector_layers.CircleMarker object at 0x7fd3ce768e80>, <folium.vector_layers.CircleMarker object at 0x7fd3ce768f28>, <folium.vector_layers.CircleMarker object at 0x7fd3ce768fd0>, <folium.vector_layers.CircleMarker object at 0x7fd3ce979a90>, <folium.vector_layers.CircleMarker object at 0x7fd3ce994470>, <folium.vector_layers.CircleMarker object at 0x7fd3ce7ac550>, <folium.vector_layers.CircleMarker object at 0x7fd3ce7ace10>, <folium.vector_layers.CircleMarker object at 0x7fd3ce768cc0>, <folium.vector_layers.CircleMarker object at 0x7fd3ce768be0>, <folium.vector_layers.CircleMarker object at 0x7fd3ce7682e8>, <folium.vector_layers.CircleMarker object at 0x7fd3ce768080>, <folium.vector_layers.CircleMarker object at 0x7fd3ce768978>, <folium.vector_layers.CircleMarker object at 0x7fd3ce7681d0>, <folium.vector_layers.CircleMarker object at 0x7fd3ce768630>, <folium.vector_layers.CircleMarker object at 0x7fd3ce768828>, <folium.vector_layers.CircleMarker object at 0x7fd3ce768908>, <folium.vector_layers.CircleMarker object at 0x7fd3ce768eb8>, <folium.vector_layers.CircleMarker object at 0x7fd3ce7687b8>, <folium.vector_layers.CircleMarker object at 0x7fd3ce77c0f0>, <folium.vector_layers.CircleMarker object at 0x7fd3ce77c208>, <folium.vector_layers.CircleMarker object at 0x7fd3ce77c2b0>, <folium.vector_layers.CircleMarker object at 0x7fd3ce77c358>, <folium.vector_layers.CircleMarker object at 0x7fd3ce77c400>, <folium.vector_layers.CircleMarker object at 0x7fd3ce77c4a8>, <folium.vector_layers.CircleMarker object at 0x7fd3ce77c550>, <folium.vector_layers.CircleMarker object at 0x7fd3ce768f98>, <folium.vector_layers.CircleMarker object at 0x7fd3ce768588>, <folium.vector_layers.CircleMarker object at 0x7fd3ce768518>, <folium.vector_layers.CircleMarker object at 0x7fd3ce768438>, <folium.vector_layers.CircleMarker object at 0x7fd3ce768ef0>, <folium.vector_layers.CircleMarker object at 0x7fd3ce768ac8>, <folium.vector_layers.CircleMarker object at 0x7fd3ce768ba8>, <folium.vector_layers.CircleMarker object at 0x7fd3ce7acc88>, <folium.vector_layers.CircleMarker object at 0x7fd3ce7acda0>, <folium.vector_layers.CircleMarker object at 0x7fd3ce77c390>, <folium.vector_layers.CircleMarker object at 0x7fd3ce77c3c8>, <folium.vector_layers.CircleMarker object at 0x7fd3ce77c278>, <folium.vector_layers.CircleMarker object at 0x7fd3ce77c0b8>, <folium.vector_layers.CircleMarker object at 0x7fd3ce77c5f8>, <folium.vector_layers.CircleMarker object at 0x7fd3ce77c4e0>, <folium.vector_layers.CircleMarker object at 0x7fd3ce77c710>, <folium.vector_layers.CircleMarker object at 0x7fd3ce77c748>, <folium.vector_layers.CircleMarker object at 0x7fd3ce77c7f0>, <folium.vector_layers.CircleMarker object at 0x7fd3ce77c898>, <folium.vector_layers.CircleMarker object at 0x7fd3ce77c940>, <folium.vector_layers.CircleMarker object at 0x7fd3ce77c9e8>, <folium.vector_layers.CircleMarker object at 0x7fd3ce77ca90>, <folium.vector_layers.CircleMarker object at 0x7fd3ce7acb70>, <folium.vector_layers.CircleMarker object at 0x7fd3ce768d68>, <folium.vector_layers.CircleMarker object at 0x7fd3ce768320>, <folium.vector_layers.CircleMarker object at 0x7fd3ce768cf8>, <folium.vector_layers.CircleMarker object at 0x7fd3ce768240>, <folium.vector_layers.CircleMarker object at 0x7fd3ce768b70>, <folium.vector_layers.CircleMarker object at 0x7fd3ce77c8d0>, <folium.vector_layers.CircleMarker object at 0x7fd3ce77c908>, <folium.vector_layers.CircleMarker object at 0x7fd3ce77c7b8>, <folium.vector_layers.CircleMarker object at 0x7fd3ce77c048>, <folium.vector_layers.CircleMarker object at 0x7fd3ce77c630>, <folium.vector_layers.CircleMarker object at 0x7fd3ce77c240>, <folium.vector_layers.CircleMarker object at 0x7fd3ce77c320>, <folium.vector_layers.CircleMarker object at 0x7fd3ce77c5c0>, <folium.vector_layers.CircleMarker object at 0x7fd3ce77cba8>, <folium.vector_layers.CircleMarker object at 0x7fd3ce77cbe0>, <folium.vector_layers.CircleMarker object at 0x7fd3ce77cac8>, <folium.vector_layers.CircleMarker object at 0x7fd3ce77ccc0>, <folium.vector_layers.CircleMarker object at 0x7fd3ce77cd68>, <folium.vector_layers.CircleMarker object at 0x7fd3ce77ce10>, <folium.vector_layers.CircleMarker object at 0x7fd3ce77ceb8>, <folium.vector_layers.CircleMarker object at 0x7fd3ce768da0>, <folium.vector_layers.CircleMarker object at 0x7fd3ce768a58>, <folium.vector_layers.CircleMarker object at 0x7fd3ce7acef0>, <folium.vector_layers.CircleMarker object at 0x7fd3ce7686a0>, <folium.vector_layers.CircleMarker object at 0x7fd3ce768c18>, <folium.vector_layers.CircleMarker object at 0x7fd3ce77c2e8>, <folium.vector_layers.CircleMarker object at 0x7fd3ce77cb70>, <folium.vector_layers.CircleMarker object at 0x7fd3ce77cc50>, <folium.vector_layers.CircleMarker object at 0x7fd3ce77c160>, <folium.vector_layers.CircleMarker object at 0x7fd3ce77c518>, <folium.vector_layers.CircleMarker object at 0x7fd3ce77c668>, <folium.vector_layers.CircleMarker object at 0x7fd3ce77c198>, <folium.vector_layers.CircleMarker object at 0x7fd3ce77c6a0>, <folium.vector_layers.CircleMarker object at 0x7fd3ce77ca58>, <folium.vector_layers.CircleMarker object at 0x7fd3ce77ce48>, <folium.vector_layers.CircleMarker object at 0x7fd3ce77cb00>, <folium.vector_layers.CircleMarker object at 0x7fd3ce78f048>, <folium.vector_layers.CircleMarker object at 0x7fd3ce78f128>, <folium.vector_layers.CircleMarker object at 0x7fd3ce78f240>, <folium.vector_layers.CircleMarker object at 0x7fd3ce78f2e8>, <folium.vector_layers.CircleMarker object at 0x7fd3ce78f390>, <folium.vector_layers.CircleMarker object at 0x7fd3ce78f438>, <folium.vector_layers.CircleMarker object at 0x7fd3ce77cfd0>, <folium.vector_layers.CircleMarker object at 0x7fd3ce77cf98>, <folium.vector_layers.CircleMarker object at 0x7fd3ce77cb38>, <folium.vector_layers.CircleMarker object at 0x7fd3ce77c080>, <folium.vector_layers.CircleMarker object at 0x7fd3ce77cdd8>, <folium.vector_layers.CircleMarker object at 0x7fd3ce77c978>, <folium.vector_layers.CircleMarker object at 0x7fd3ce7ac6a0>, <folium.vector_layers.CircleMarker object at 0x7fd3ce77ca20>, <folium.vector_layers.CircleMarker object at 0x7fd3ce77cd30>, <folium.vector_layers.CircleMarker object at 0x7fd3ce768e10>, <folium.vector_layers.CircleMarker object at 0x7fd3ce768198>, <folium.vector_layers.CircleMarker object at 0x7fd3ce78f0b8>, <folium.vector_layers.CircleMarker object at 0x7fd3ce78f0f0>, <folium.vector_layers.CircleMarker object at 0x7fd3ce78f4e0>, <folium.vector_layers.CircleMarker object at 0x7fd3ce78f3c8>, <folium.vector_layers.CircleMarker object at 0x7fd3ce78f5f8>, <folium.vector_layers.CircleMarker object at 0x7fd3ce78f630>, <folium.vector_layers.CircleMarker object at 0x7fd3ce78f6d8>, <folium.vector_layers.CircleMarker object at 0x7fd3ce78f780>, <folium.vector_layers.CircleMarker object at 0x7fd3ce78f828>, <folium.vector_layers.CircleMarker object at 0x7fd3ce78f8d0>, <folium.vector_layers.CircleMarker object at 0x7fd3ce78f978>, <folium.vector_layers.CircleMarker object at 0x7fd3ce77c1d0>, <folium.vector_layers.CircleMarker object at 0x7fd3ce77c588>, <folium.vector_layers.CircleMarker object at 0x7fd3ce9794a8>, <folium.vector_layers.CircleMarker object at 0x7fd3ce77cc88>, <folium.vector_layers.CircleMarker object at 0x7fd3ce77ce80>, <folium.vector_layers.CircleMarker object at 0x7fd3ce77cef0>, <folium.vector_layers.CircleMarker object at 0x7fd3ce768048>, <folium.vector_layers.CircleMarker object at 0x7fd3ce768b00>, <folium.vector_layers.CircleMarker object at 0x7fd3ce7685c0>, <folium.vector_layers.CircleMarker object at 0x7fd3ce7ac9e8>, <folium.vector_layers.CircleMarker object at 0x7fd3ce78f7b8>, <folium.vector_layers.CircleMarker object at 0x7fd3ce78f7f0>, <folium.vector_layers.CircleMarker object at 0x7fd3ce78f6a0>, <folium.vector_layers.CircleMarker object at 0x7fd3ce78f080>, <folium.vector_layers.CircleMarker object at 0x7fd3ce78f518>, <folium.vector_layers.CircleMarker object at 0x7fd3ce78f198>, <folium.vector_layers.CircleMarker object at 0x7fd3ce78f278>, <folium.vector_layers.CircleMarker object at 0x7fd3ce78fa20>, <folium.vector_layers.CircleMarker object at 0x7fd3ce78f908>, <folium.vector_layers.CircleMarker object at 0x7fd3ce78fb38>, <folium.vector_layers.CircleMarker object at 0x7fd3ce78fb70>, <folium.vector_layers.CircleMarker object at 0x7fd3ce78fc18>, <folium.vector_layers.CircleMarker object at 0x7fd3ce7688d0>, <folium.vector_layers.CircleMarker object at 0x7fd3ce768f60>, <folium.vector_layers.CircleMarker object at 0x7fd3ce7aca20>, <folium.vector_layers.CircleMarker object at 0x7fd3ce77cf28>, <folium.vector_layers.CircleMarker object at 0x7fd3ce77c470>, <folium.vector_layers.CircleMarker object at 0x7fd3ce77cc18>, <folium.vector_layers.CircleMarker object at 0x7fd3ce77c128>, <folium.vector_layers.CircleMarker object at 0x7fd3ce78f400>, <folium.vector_layers.CircleMarker object at 0x7fd3ce78fa58>, <folium.vector_layers.CircleMarker object at 0x7fd3ce78f5c0>, <folium.vector_layers.CircleMarker object at 0x7fd3ce78f320>, <folium.vector_layers.CircleMarker object at 0x7fd3ce78f668>, <folium.vector_layers.CircleMarker object at 0x7fd3ce78f748>, <folium.vector_layers.CircleMarker object at 0x7fd3ce78fcc0>, <folium.vector_layers.CircleMarker object at 0x7fd3ce78fba8>, <folium.vector_layers.CircleMarker object at 0x7fd3ce78fdd8>, <folium.vector_layers.CircleMarker object at 0x7fd3ce78fe10>, <folium.vector_layers.CircleMarker object at 0x7fd3ce78feb8>, <folium.vector_layers.CircleMarker object at 0x7fd3ce78ff60>, <folium.vector_layers.CircleMarker object at 0x7fd3ce78fef0>, <folium.vector_layers.CircleMarker object at 0x7fd3ce723048>, <folium.vector_layers.CircleMarker object at 0x7fd3ce723128>, <folium.vector_layers.CircleMarker object at 0x7fd3ce78fac8>, <folium.vector_layers.CircleMarker object at 0x7fd3ce78ff28>, <folium.vector_layers.CircleMarker object at 0x7fd3ce78f898>, <folium.vector_layers.CircleMarker object at 0x7fd3ce78fcf8>, <folium.vector_layers.CircleMarker object at 0x7fd3ce78f160>, <folium.vector_layers.CircleMarker object at 0x7fd3ce78f2b0>, <folium.vector_layers.CircleMarker object at 0x7fd3ce78fa90>, <folium.vector_layers.CircleMarker object at 0x7fd3ce78fb00>, <folium.vector_layers.CircleMarker object at 0x7fd3ce78f860>, <folium.vector_layers.CircleMarker object at 0x7fd3ce768e48>, <folium.vector_layers.CircleMarker object at 0x7fd3ce77c9b0>, <folium.vector_layers.CircleMarker object at 0x7fd3ce7ac780>, <folium.vector_layers.CircleMarker object at 0x7fd3ce77c860>, <folium.vector_layers.CircleMarker object at 0x7fd3ce7230f0>, <folium.vector_layers.CircleMarker object at 0x7fd3ce723278>, <folium.vector_layers.CircleMarker object at 0x7fd3ce723358>, <folium.vector_layers.CircleMarker object at 0x7fd3ce723390>, <folium.vector_layers.CircleMarker object at 0x7fd3ce723438>, <folium.vector_layers.CircleMarker object at 0x7fd3ce7234e0>, <folium.vector_layers.CircleMarker object at 0x7fd3ce723588>, <folium.vector_layers.CircleMarker object at 0x7fd3ce723630>, <folium.vector_layers.CircleMarker object at 0x7fd3ce7236d8>, <folium.vector_layers.CircleMarker object at 0x7fd3ce7acf60>, <folium.vector_layers.CircleMarker object at 0x7fd3ce77ccf8>, <folium.vector_layers.CircleMarker object at 0x7fd3ce77c828>, <folium.vector_layers.CircleMarker object at 0x7fd3ce78f588>, <folium.vector_layers.CircleMarker object at 0x7fd3ce78fda0>, <folium.vector_layers.CircleMarker object at 0x7fd3ce78f940>, <folium.vector_layers.CircleMarker object at 0x7fd3ce78fd30>, <folium.vector_layers.CircleMarker object at 0x7fd3ce78fe48>, <folium.vector_layers.CircleMarker object at 0x7fd3ce78ffd0>, <folium.vector_layers.CircleMarker object at 0x7fd3ce7233c8>, <folium.vector_layers.CircleMarker object at 0x7fd3ce7230b8>, <folium.vector_layers.CircleMarker object at 0x7fd3ce723208>, <folium.vector_layers.CircleMarker object at 0x7fd3ce723240>, <folium.vector_layers.CircleMarker object at 0x7fd3ce723780>, <folium.vector_layers.CircleMarker object at 0x7fd3ce723668>, <folium.vector_layers.CircleMarker object at 0x7fd3ce723898>, <folium.vector_layers.CircleMarker object at 0x7fd3ce7238d0>, <folium.vector_layers.CircleMarker object at 0x7fd3ce723978>, <folium.vector_layers.CircleMarker object at 0x7fd3ce723a20>, <folium.vector_layers.CircleMarker object at 0x7fd3ce723ac8>, <folium.vector_layers.CircleMarker object at 0x7fd3ce723b70>, <folium.vector_layers.CircleMarker object at 0x7fd3ce723c18>, <folium.vector_layers.CircleMarker object at 0x7fd3ce78fbe0>, <folium.vector_layers.CircleMarker object at 0x7fd3ce768780>, <folium.vector_layers.CircleMarker object at 0x7fd3ce78f550>, <folium.vector_layers.CircleMarker object at 0x7fd3ce78f4a8>, <folium.vector_layers.CircleMarker object at 0x7fd3ce77c438>, <folium.vector_layers.CircleMarker object at 0x7fd3ce723a58>, <folium.vector_layers.CircleMarker object at 0x7fd3ce723a90>, <folium.vector_layers.CircleMarker object at 0x7fd3ce723940>, <folium.vector_layers.CircleMarker object at 0x7fd3ce723080>, <folium.vector_layers.CircleMarker object at 0x7fd3ce7237b8>, <folium.vector_layers.CircleMarker object at 0x7fd3ce723550>, <folium.vector_layers.CircleMarker object at 0x7fd3ce7232b0>, <folium.vector_layers.CircleMarker object at 0x7fd3ce723470>, <folium.vector_layers.CircleMarker object at 0x7fd3ce723cc0>, <folium.vector_layers.CircleMarker object at 0x7fd3ce723ba8>, <folium.vector_layers.CircleMarker object at 0x7fd3ce723dd8>, <folium.vector_layers.CircleMarker object at 0x7fd3ce723e10>, <folium.vector_layers.CircleMarker object at 0x7fd3ce723eb8>, <folium.vector_layers.CircleMarker object at 0x7fd3ce723f60>, <folium.vector_layers.CircleMarker object at 0x7fd3ce723ef0>, <folium.vector_layers.CircleMarker object at 0x7fd3ce737048>, <folium.vector_layers.CircleMarker object at 0x7fd3ce737128>, <folium.vector_layers.CircleMarker object at 0x7fd3ce7239b0>, <folium.vector_layers.CircleMarker object at 0x7fd3ce723f28>, <folium.vector_layers.CircleMarker object at 0x7fd3ce723518>, <folium.vector_layers.CircleMarker object at 0x7fd3ce723cf8>, <folium.vector_layers.CircleMarker object at 0x7fd3ce723400>, <folium.vector_layers.CircleMarker object at 0x7fd3ce7235f8>, <folium.vector_layers.CircleMarker object at 0x7fd3ce723710>, <folium.vector_layers.CircleMarker object at 0x7fd3ce7231d0>, <folium.vector_layers.CircleMarker object at 0x7fd3ce77c780>, <folium.vector_layers.CircleMarker object at 0x7fd3ce723b38>, <folium.vector_layers.CircleMarker object at 0x7fd3ce723be0>, <folium.vector_layers.CircleMarker object at 0x7fd3ce78fd68>, <folium.vector_layers.CircleMarker object at 0x7fd3ce78f710>, <folium.vector_layers.CircleMarker object at 0x7fd3ce7370f0>, <folium.vector_layers.CircleMarker object at 0x7fd3ce737278>, <folium.vector_layers.CircleMarker object at 0x7fd3ce737358>, <folium.vector_layers.CircleMarker object at 0x7fd3ce737390>, <folium.vector_layers.CircleMarker object at 0x7fd3ce737438>, <folium.vector_layers.CircleMarker object at 0x7fd3ce7374e0>, <folium.vector_layers.CircleMarker object at 0x7fd3ce737588>, <folium.vector_layers.CircleMarker object at 0x7fd3ce737630>, <folium.vector_layers.CircleMarker object at 0x7fd3ce78f470>, <folium.vector_layers.CircleMarker object at 0x7fd3ce78f1d0>, <folium.vector_layers.CircleMarker object at 0x7fd3ce77c6d8>, <folium.vector_layers.CircleMarker object at 0x7fd3ce7237f0>, <folium.vector_layers.CircleMarker object at 0x7fd3ce7235c0>, <folium.vector_layers.CircleMarker object at 0x7fd3ce723d68>, <folium.vector_layers.CircleMarker object at 0x7fd3ce7234a8>, <folium.vector_layers.CircleMarker object at 0x7fd3ce723c50>, <folium.vector_layers.CircleMarker object at 0x7fd3ce723d30>, <folium.vector_layers.CircleMarker object at 0x7fd3ce7376d8>, <folium.vector_layers.CircleMarker object at 0x7fd3ce737550>, <folium.vector_layers.CircleMarker object at 0x7fd3ce737400>, <folium.vector_layers.CircleMarker object at 0x7fd3ce737320>, <folium.vector_layers.CircleMarker object at 0x7fd3ce737080>, <folium.vector_layers.CircleMarker object at 0x7fd3ce7375c0>, <folium.vector_layers.CircleMarker object at 0x7fd3ce7377f0>, <folium.vector_layers.CircleMarker object at 0x7fd3ce737828>, <folium.vector_layers.CircleMarker object at 0x7fd3ce7378d0>, <folium.vector_layers.CircleMarker object at 0x7fd3ce737978>, <folium.vector_layers.CircleMarker object at 0x7fd3ce737a20>, <folium.vector_layers.CircleMarker object at 0x7fd3ce737ac8>, <folium.vector_layers.CircleMarker object at 0x7fd3ce737b70>, <folium.vector_layers.CircleMarker object at 0x7fd3ce7239e8>, <folium.vector_layers.CircleMarker object at 0x7fd3ce77cda0>, <folium.vector_layers.CircleMarker object at 0x7fd3ce723320>, <folium.vector_layers.CircleMarker object at 0x7fd3ce78f358>, <folium.vector_layers.CircleMarker object at 0x7fd3ce723f98>, <folium.vector_layers.CircleMarker object at 0x7fd3ce7236a0>, <folium.vector_layers.CircleMarker object at 0x7fd3ce737a90>, <folium.vector_layers.CircleMarker object at 0x7fd3ce737940>, <folium.vector_layers.CircleMarker object at 0x7fd3ce737198>, <folium.vector_layers.CircleMarker object at 0x7fd3ce7377b8>, <folium.vector_layers.CircleMarker object at 0x7fd3ce737160>, <folium.vector_layers.CircleMarker object at 0x7fd3ce737208>, <folium.vector_layers.CircleMarker object at 0x7fd3ce7375f8>, <folium.vector_layers.CircleMarker object at 0x7fd3ce737c18>, <folium.vector_layers.CircleMarker object at 0x7fd3ce737b00>, <folium.vector_layers.CircleMarker object at 0x7fd3ce737d30>, <folium.vector_layers.CircleMarker object at 0x7fd3ce737d68>, <folium.vector_layers.CircleMarker object at 0x7fd3ce737e10>, <folium.vector_layers.CircleMarker object at 0x7fd3ce737eb8>, <folium.vector_layers.CircleMarker object at 0x7fd3ce737f60>, <folium.vector_layers.CircleMarker object at 0x7fd3ce737ef0>, <folium.vector_layers.CircleMarker object at 0x7fd3ce749048>, <folium.vector_layers.CircleMarker object at 0x7fd3ce7379b0>, <folium.vector_layers.CircleMarker object at 0x7fd3ce737f28>, <folium.vector_layers.CircleMarker object at 0x7fd3ce737c88>, <folium.vector_layers.CircleMarker object at 0x7fd3ce737cf8>, <folium.vector_layers.CircleMarker object at 0x7fd3ce737240>, <folium.vector_layers.CircleMarker object at 0x7fd3ce7374a8>, <folium.vector_layers.CircleMarker object at 0x7fd3ce737780>, <folium.vector_layers.CircleMarker object at 0x7fd3ce78f208>, <folium.vector_layers.CircleMarker object at 0x7fd3ce737898>, <folium.vector_layers.CircleMarker object at 0x7fd3ce7379e8>, <folium.vector_layers.CircleMarker object at 0x7fd3ce737668>, <folium.vector_layers.CircleMarker object at 0x7fd3ce723908>, <folium.vector_layers.CircleMarker object at 0x7fd3ce723da0>, <folium.vector_layers.CircleMarker object at 0x7fd3ce7232e8>, <folium.vector_layers.CircleMarker object at 0x7fd3ce749160>, <folium.vector_layers.CircleMarker object at 0x7fd3ce7492b0>, <folium.vector_layers.CircleMarker object at 0x7fd3ce7492e8>, <folium.vector_layers.CircleMarker object at 0x7fd3ce749390>, <folium.vector_layers.CircleMarker object at 0x7fd3ce749438>, <folium.vector_layers.CircleMarker object at 0x7fd3ce7494e0>, <folium.vector_layers.CircleMarker object at 0x7fd3ce749588>, <folium.vector_layers.CircleMarker object at 0x7fd3ce749630>, <folium.vector_layers.CircleMarker object at 0x7fd3ce78fc50>, <folium.vector_layers.CircleMarker object at 0x7fd3ce723fd0>, <folium.vector_layers.CircleMarker object at 0x7fd3ce737710>, <folium.vector_layers.CircleMarker object at 0x7fd3ce7372e8>, <folium.vector_layers.CircleMarker object at 0x7fd3ce7373c8>, <folium.vector_layers.CircleMarker object at 0x7fd3ce737ba8>, <folium.vector_layers.CircleMarker object at 0x7fd3ce737748>, <folium.vector_layers.CircleMarker object at 0x7fd3ce737da0>, <folium.vector_layers.CircleMarker object at 0x7fd3ce737cc0>, <folium.vector_layers.CircleMarker object at 0x7fd3ce749550>, <folium.vector_layers.CircleMarker object at 0x7fd3ce749400>, <folium.vector_layers.CircleMarker object at 0x7fd3ce749198>, <folium.vector_layers.CircleMarker object at 0x7fd3ce749240>, <folium.vector_layers.CircleMarker object at 0x7fd3ce7496d8>, <folium.vector_layers.CircleMarker object at 0x7fd3ce7495c0>, <folium.vector_layers.CircleMarker object at 0x7fd3ce7497f0>, <folium.vector_layers.CircleMarker object at 0x7fd3ce749828>, <folium.vector_layers.CircleMarker object at 0x7fd3ce7498d0>, <folium.vector_layers.CircleMarker object at 0x7fd3ce749978>, <folium.vector_layers.CircleMarker object at 0x7fd3ce749a20>, <folium.vector_layers.CircleMarker object at 0x7fd3ce749ac8>, <folium.vector_layers.CircleMarker object at 0x7fd3ce749b70>, <folium.vector_layers.CircleMarker object at 0x7fd3ce737908>, <folium.vector_layers.CircleMarker object at 0x7fd3ce737a58>, <folium.vector_layers.CircleMarker object at 0x7fd3ce737860>, <folium.vector_layers.CircleMarker object at 0x7fd3ce723e80>, <folium.vector_layers.CircleMarker object at 0x7fd3ce723860>, <folium.vector_layers.CircleMarker object at 0x7fd3ce7370b8>, <folium.vector_layers.CircleMarker object at 0x7fd3ce749860>, <folium.vector_layers.CircleMarker object at 0x7fd3ce749780>, <folium.vector_layers.CircleMarker object at 0x7fd3ce7490f0>, <folium.vector_layers.CircleMarker object at 0x7fd3ce749208>, <folium.vector_layers.CircleMarker object at 0x7fd3ce749518>, <folium.vector_layers.CircleMarker object at 0x7fd3ce7493c8>, <folium.vector_layers.CircleMarker object at 0x7fd3ce7494a8>, <folium.vector_layers.CircleMarker object at 0x7fd3ce749c18>, <folium.vector_layers.CircleMarker object at 0x7fd3ce749b00>, <folium.vector_layers.CircleMarker object at 0x7fd3ce749d30>, <folium.vector_layers.CircleMarker object at 0x7fd3ce749d68>, <folium.vector_layers.CircleMarker object at 0x7fd3ce749e10>, <folium.vector_layers.CircleMarker object at 0x7fd3ce749eb8>, <folium.vector_layers.CircleMarker object at 0x7fd3ce749f60>, <folium.vector_layers.CircleMarker object at 0x7fd3ce749ef0>, <folium.vector_layers.CircleMarker object at 0x7fd3ce6de048>, <folium.vector_layers.CircleMarker object at 0x7fd3ce723828>, <folium.vector_layers.CircleMarker object at 0x7fd3ce737dd8>, <folium.vector_layers.CircleMarker object at 0x7fd3ce737e48>, <folium.vector_layers.CircleMarker object at 0x7fd3ce737fd0>, <folium.vector_layers.CircleMarker object at 0x7fd3ce749da0>, <folium.vector_layers.CircleMarker object at 0x7fd3ce749cc0>, <folium.vector_layers.CircleMarker object at 0x7fd3ce749470>, <folium.vector_layers.CircleMarker object at 0x7fd3ce749358>, <folium.vector_layers.CircleMarker object at 0x7fd3ce749a58>, <folium.vector_layers.CircleMarker object at 0x7fd3ce749128>, <folium.vector_layers.CircleMarker object at 0x7fd3ce7491d0>, <folium.vector_layers.CircleMarker object at 0x7fd3ce749a90>, <folium.vector_layers.CircleMarker object at 0x7fd3ce749668>, <folium.vector_layers.CircleMarker object at 0x7fd3ce749be0>, <folium.vector_layers.CircleMarker object at 0x7fd3ce749748>, <folium.vector_layers.CircleMarker object at 0x7fd3ce6de1d0>, <folium.vector_layers.CircleMarker object at 0x7fd3ce6de0b8>, <folium.vector_layers.CircleMarker object at 0x7fd3ce6de320>, <folium.vector_layers.CircleMarker object at 0x7fd3ce6de3c8>, <folium.vector_layers.CircleMarker object at 0x7fd3ce6de470>, <folium.vector_layers.CircleMarker object at 0x7fd3ce6de518>, <folium.vector_layers.CircleMarker object at 0x7fd3ce749b38>, <folium.vector_layers.CircleMarker object at 0x7fd3ce7499b0>, <folium.vector_layers.CircleMarker object at 0x7fd3ce749898>, <folium.vector_layers.CircleMarker object at 0x7fd3ce749dd8>, <folium.vector_layers.CircleMarker object at 0x7fd3ce749cf8>, <folium.vector_layers.CircleMarker object at 0x7fd3ce749e80>, <folium.vector_layers.CircleMarker object at 0x7fd3ce749f98>, <folium.vector_layers.CircleMarker object at 0x7fd3ce749ba8>, <folium.vector_layers.CircleMarker object at 0x7fd3ce7ac240>, <folium.vector_layers.CircleMarker object at 0x7fd3ce7371d0>, <folium.vector_layers.CircleMarker object at 0x7fd3ce737518>, <folium.vector_layers.CircleMarker object at 0x7fd3ce737be0>, <folium.vector_layers.CircleMarker object at 0x7fd3ce723c88>, <folium.vector_layers.CircleMarker object at 0x7fd3ce723e48>, <folium.vector_layers.CircleMarker object at 0x7fd3ce78fc88>, <folium.vector_layers.CircleMarker object at 0x7fd3ce6de5c0>, <folium.vector_layers.CircleMarker object at 0x7fd3ce6de438>, <folium.vector_layers.CircleMarker object at 0x7fd3ce6de2e8>, <folium.vector_layers.CircleMarker object at 0x7fd3ce6de198>, <folium.vector_layers.CircleMarker object at 0x7fd3ce6de5f8>, <folium.vector_layers.CircleMarker object at 0x7fd3ce6de6a0>, <folium.vector_layers.CircleMarker object at 0x7fd3ce6de128>, <folium.vector_layers.CircleMarker object at 0x7fd3ce6de780>, <folium.vector_layers.CircleMarker object at 0x7fd3ce78fe80>, <folium.vector_layers.CircleMarker object at 0x7fd3ce723198>, <folium.vector_layers.CircleMarker object at 0x7fd3ce7376a0>, <folium.vector_layers.CircleMarker object at 0x7fd3ce737c50>, <folium.vector_layers.CircleMarker object at 0x7fd3ce7372b0>, <folium.vector_layers.CircleMarker object at 0x7fd3ce749320>, <folium.vector_layers.CircleMarker object at 0x7fd3ce7497b8>, <folium.vector_layers.CircleMarker object at 0x7fd3ce749710>, <folium.vector_layers.CircleMarker object at 0x7fd3ce749278>, <folium.vector_layers.CircleMarker object at 0x7fd3ce749c50>, <folium.vector_layers.CircleMarker object at 0x7fd3ce6de550>, <folium.vector_layers.CircleMarker object at 0x7fd3ce6de080>, <folium.vector_layers.CircleMarker object at 0x7fd3ce6de160>, <folium.vector_layers.CircleMarker object at 0x7fd3ce6de630>, <folium.vector_layers.CircleMarker object at 0x7fd3ce6de898>, <folium.vector_layers.CircleMarker object at 0x7fd3ce6de8d0>, <folium.vector_layers.CircleMarker object at 0x7fd3ce6de7b8>, <folium.vector_layers.CircleMarker object at 0x7fd3ce6de9b0>, <folium.vector_layers.CircleMarker object at 0x7fd3ce6dea58>, <folium.vector_layers.CircleMarker object at 0x7fd3ce6deb00>, <folium.vector_layers.CircleMarker object at 0x7fd3ce6deba8>, <folium.vector_layers.CircleMarker object at 0x7fd3ce6dec50>, <folium.vector_layers.CircleMarker object at 0x7fd3ce7490b8>, <folium.vector_layers.CircleMarker object at 0x7fd3ce749080>, <folium.vector_layers.CircleMarker object at 0x7fd3ce737b38>, <folium.vector_layers.CircleMarker object at 0x7fd3ce737470>, <folium.vector_layers.CircleMarker object at 0x7fd3ce723748>, <folium.vector_layers.CircleMarker object at 0x7fd3ce7496a0>, <folium.vector_layers.CircleMarker object at 0x7fd3ce749fd0>, <folium.vector_layers.CircleMarker object at 0x7fd3ce6de358>, <folium.vector_layers.CircleMarker object at 0x7fd3ce6de860>, <folium.vector_layers.CircleMarker object at 0x7fd3ce6de940>, <folium.vector_layers.CircleMarker object at 0x7fd3ce6de208>, <folium.vector_layers.CircleMarker object at 0x7fd3ce6de4e0>, <folium.vector_layers.CircleMarker object at 0x7fd3ce6de240>, <folium.vector_layers.CircleMarker object at 0x7fd3ce6de7f0>, <folium.vector_layers.CircleMarker object at 0x7fd3ce6ded68>, <folium.vector_layers.CircleMarker object at 0x7fd3ce6deda0>, <folium.vector_layers.CircleMarker object at 0x7fd3ce6dec88>, <folium.vector_layers.CircleMarker object at 0x7fd3ce6dee80>, <folium.vector_layers.CircleMarker object at 0x7fd3ce6def28>, <folium.vector_layers.CircleMarker object at 0x7fd3ce6defd0>, <folium.vector_layers.CircleMarker object at 0x7fd3ce6deeb8>, <folium.vector_layers.CircleMarker object at 0x7fd3ce723b00>, <folium.vector_layers.CircleMarker object at 0x7fd3ce737e80>, <folium.vector_layers.CircleMarker object at 0x7fd3ce749e48>, <folium.vector_layers.CircleMarker object at 0x7fd3ce749940>, <folium.vector_layers.CircleMarker object at 0x7fd3ce7499e8>, <folium.vector_layers.CircleMarker object at 0x7fd3ce6dedd8>, <folium.vector_layers.CircleMarker object at 0x7fd3ce6deb38>, <folium.vector_layers.CircleMarker object at 0x7fd3ce6debe0>, <folium.vector_layers.CircleMarker object at 0x7fd3ce6de828>, <folium.vector_layers.CircleMarker object at 0x7fd3ce6de278>, <folium.vector_layers.CircleMarker object at 0x7fd3ce6deac8>, <folium.vector_layers.CircleMarker object at 0x7fd3ce6de6d8>, <folium.vector_layers.CircleMarker object at 0x7fd3ce6de9e8>, <folium.vector_layers.CircleMarker object at 0x7fd3ce6dea20>, <folium.vector_layers.CircleMarker object at 0x7fd3ce6f60f0>, <folium.vector_layers.CircleMarker object at 0x7fd3ce6f6240>, <folium.vector_layers.CircleMarker object at 0x7fd3ce6f62b0>, <folium.vector_layers.CircleMarker object at 0x7fd3ce6f6358>, <folium.vector_layers.CircleMarker object at 0x7fd3ce6f6400>, <folium.vector_layers.CircleMarker object at 0x7fd3ce6f64a8>, <folium.vector_layers.CircleMarker object at 0x7fd3ce6f6550>, <folium.vector_layers.CircleMarker object at 0x7fd3ce6f65f8>, <folium.vector_layers.CircleMarker object at 0x7fd3ce6dec18>, <folium.vector_layers.CircleMarker object at 0x7fd3ce6de908>, <folium.vector_layers.CircleMarker object at 0x7fd3ce6dee10>, <folium.vector_layers.CircleMarker object at 0x7fd3ce6decf8>, <folium.vector_layers.CircleMarker object at 0x7fd3ce6dee48>, <folium.vector_layers.CircleMarker object at 0x7fd3ce7495f8>, <folium.vector_layers.CircleMarker object at 0x7fd3ce749f28>, <folium.vector_layers.CircleMarker object at 0x7fd3ce723160>, <folium.vector_layers.CircleMarker object at 0x7fd3ce6de2b0>, <folium.vector_layers.CircleMarker object at 0x7fd3ce6f6438>, <folium.vector_layers.CircleMarker object at 0x7fd3ce6f6470>, <folium.vector_layers.CircleMarker object at 0x7fd3ce6f6320>, <folium.vector_layers.CircleMarker object at 0x7fd3ce6f6198>, <folium.vector_layers.CircleMarker object at 0x7fd3ce6f66a0>, <folium.vector_layers.CircleMarker object at 0x7fd3ce6f6588>, <folium.vector_layers.CircleMarker object at 0x7fd3ce6f67b8>, <folium.vector_layers.CircleMarker object at 0x7fd3ce6f67f0>, <folium.vector_layers.CircleMarker object at 0x7fd3ce6f6898>, <folium.vector_layers.CircleMarker object at 0x7fd3ce6f6940>, <folium.vector_layers.CircleMarker object at 0x7fd3ce6f69e8>, <folium.vector_layers.CircleMarker object at 0x7fd3ce6f6a90>, <folium.vector_layers.CircleMarker object at 0x7fd3ce6f6b38>, <folium.vector_layers.CircleMarker object at 0x7fd3ce78ff98>, <folium.vector_layers.CircleMarker object at 0x7fd3ce749c88>, <folium.vector_layers.CircleMarker object at 0x7fd3ce6de390>, <folium.vector_layers.CircleMarker object at 0x7fd3ce6deef0>, <folium.vector_layers.CircleMarker object at 0x7fd3ce6de978>, <folium.vector_layers.CircleMarker object at 0x7fd3ce6de0f0>, <folium.vector_layers.CircleMarker object at 0x7fd3ce6f6a58>, <folium.vector_layers.CircleMarker object at 0x7fd3ce6f6908>, <folium.vector_layers.CircleMarker object at 0x7fd3ce6f6710>, <folium.vector_layers.CircleMarker object at 0x7fd3ce6f6780>, <folium.vector_layers.CircleMarker object at 0x7fd3ce6f6278>, <folium.vector_layers.CircleMarker object at 0x7fd3ce6f6080>, <folium.vector_layers.CircleMarker object at 0x7fd3ce6f6518>, <folium.vector_layers.CircleMarker object at 0x7fd3ce6f6be0>, <folium.vector_layers.CircleMarker object at 0x7fd3ce6f6ac8>, <folium.vector_layers.CircleMarker object at 0x7fd3ce6f6cf8>, <folium.vector_layers.CircleMarker object at 0x7fd3ce6f6d30>, <folium.vector_layers.CircleMarker object at 0x7fd3ce6f6dd8>, <folium.vector_layers.CircleMarker object at 0x7fd3ce6f6e80>, <folium.vector_layers.CircleMarker object at 0x7fd3ce6f6f28>, <folium.vector_layers.CircleMarker object at 0x7fd3ce6f6fd0>, <folium.vector_layers.CircleMarker object at 0x7fd3ce6f6eb8>, <folium.vector_layers.CircleMarker object at 0x7fd3ce6f6978>, <folium.vector_layers.CircleMarker object at 0x7fd3ce6f6ef0>, <folium.vector_layers.CircleMarker object at 0x7fd3ce6f6c50>, <folium.vector_layers.CircleMarker object at 0x7fd3ce6f6cc0>, <folium.vector_layers.CircleMarker object at 0x7fd3ce6f64e0>, <folium.vector_layers.CircleMarker object at 0x7fd3ce6f63c8>, <folium.vector_layers.CircleMarker object at 0x7fd3ce6f6748>, <folium.vector_layers.CircleMarker object at 0x7fd3ce6f6160>, <folium.vector_layers.CircleMarker object at 0x7fd3ce6f6630>, <folium.vector_layers.CircleMarker object at 0x7fd3ce6f68d0>, <folium.vector_layers.CircleMarker object at 0x7fd3ce749908>, <folium.vector_layers.CircleMarker object at 0x7fd3ce6de4a8>, <folium.vector_layers.CircleMarker object at 0x7fd3ce6de668>, <folium.vector_layers.CircleMarker object at 0x7fd3ce6decc0>, <folium.vector_layers.CircleMarker object at 0x7fd3ce709128>, <folium.vector_layers.CircleMarker object at 0x7fd3ce709278>, <folium.vector_layers.CircleMarker object at 0x7fd3ce7092b0>, <folium.vector_layers.CircleMarker object at 0x7fd3ce709358>, <folium.vector_layers.CircleMarker object at 0x7fd3ce709400>, <folium.vector_layers.CircleMarker object at 0x7fd3ce7094a8>, <folium.vector_layers.CircleMarker object at 0x7fd3ce709550>, <folium.vector_layers.CircleMarker object at 0x7fd3ce7095f8>, <folium.vector_layers.CircleMarker object at 0x7fd3ce737f98>, <folium.vector_layers.CircleMarker object at 0x7fd3ce6def60>, <folium.vector_layers.CircleMarker object at 0x7fd3ce6f69b0>, <folium.vector_layers.CircleMarker object at 0x7fd3ce6f6860>, <folium.vector_layers.CircleMarker object at 0x7fd3ce6f62e8>, <folium.vector_layers.CircleMarker object at 0x7fd3ce6f6b70>, <folium.vector_layers.CircleMarker object at 0x7fd3ce6f65c0>, <folium.vector_layers.CircleMarker object at 0x7fd3ce6f6d68>, <folium.vector_layers.CircleMarker object at 0x7fd3ce6f6c88>, <folium.vector_layers.CircleMarker object at 0x7fd3ce709518>, <folium.vector_layers.CircleMarker object at 0x7fd3ce7093c8>, <folium.vector_layers.CircleMarker object at 0x7fd3ce709160>, <folium.vector_layers.CircleMarker object at 0x7fd3ce709208>, <folium.vector_layers.CircleMarker object at 0x7fd3ce7096a0>, <folium.vector_layers.CircleMarker object at 0x7fd3ce709588>, <folium.vector_layers.CircleMarker object at 0x7fd3ce7097b8>, <folium.vector_layers.CircleMarker object at 0x7fd3ce7097f0>, <folium.vector_layers.CircleMarker object at 0x7fd3ce709898>, <folium.vector_layers.CircleMarker object at 0x7fd3ce709940>, <folium.vector_layers.CircleMarker object at 0x7fd3ce7099e8>, <folium.vector_layers.CircleMarker object at 0x7fd3ce709a90>, <folium.vector_layers.CircleMarker object at 0x7fd3ce709b38>, <folium.vector_layers.CircleMarker object at 0x7fd3ce6f66d8>, <folium.vector_layers.CircleMarker object at 0x7fd3ce6f6a20>, <folium.vector_layers.CircleMarker object at 0x7fd3ce6f6828>, <folium.vector_layers.CircleMarker object at 0x7fd3ce6def98>, <folium.vector_layers.CircleMarker object at 0x7fd3ce6de748>, <folium.vector_layers.CircleMarker object at 0x7fd3ce6f6b00>, <folium.vector_layers.CircleMarker object at 0x7fd3ce709a58>, <folium.vector_layers.CircleMarker object at 0x7fd3ce709908>, <folium.vector_layers.CircleMarker object at 0x7fd3ce709710>, <folium.vector_layers.CircleMarker object at 0x7fd3ce709780>, <folium.vector_layers.CircleMarker object at 0x7fd3ce709198>, <folium.vector_layers.CircleMarker object at 0x7fd3ce709240>, <folium.vector_layers.CircleMarker object at 0x7fd3ce709080>, <folium.vector_layers.CircleMarker object at 0x7fd3ce709668>, <folium.vector_layers.CircleMarker object at 0x7fd3ce709c50>, <folium.vector_layers.CircleMarker object at 0x7fd3ce709c88>, <folium.vector_layers.CircleMarker object at 0x7fd3ce709b70>, <folium.vector_layers.CircleMarker object at 0x7fd3ce709d68>, <folium.vector_layers.CircleMarker object at 0x7fd3ce709e10>, <folium.vector_layers.CircleMarker object at 0x7fd3ce709eb8>, <folium.vector_layers.CircleMarker object at 0x7fd3ce709f60>, <folium.vector_layers.CircleMarker object at 0x7fd3ce6ded30>, <folium.vector_layers.CircleMarker object at 0x7fd3ce6f6208>, <folium.vector_layers.CircleMarker object at 0x7fd3ce6f6128>, <folium.vector_layers.CircleMarker object at 0x7fd3ce6f6390>, <folium.vector_layers.CircleMarker object at 0x7fd3ce709ef0>, <folium.vector_layers.CircleMarker object at 0x7fd3ce709e80>, <folium.vector_layers.CircleMarker object at 0x7fd3ce709d30>, <folium.vector_layers.CircleMarker object at 0x7fd3ce709470>, <folium.vector_layers.CircleMarker object at 0x7fd3ce709be0>, <folium.vector_layers.CircleMarker object at 0x7fd3ce7091d0>, <folium.vector_layers.CircleMarker object at 0x7fd3ce7092e8>, <folium.vector_layers.CircleMarker object at 0x7fd3ce709828>, <folium.vector_layers.CircleMarker object at 0x7fd3ce709860>, <folium.vector_layers.CircleMarker object at 0x7fd3ce709b00>, <folium.vector_layers.CircleMarker object at 0x7fd3ce709630>, <folium.vector_layers.CircleMarker object at 0x7fd3ce69f048>, <folium.vector_layers.CircleMarker object at 0x7fd3ce69f128>, <folium.vector_layers.CircleMarker object at 0x7fd3ce69f240>, <folium.vector_layers.CircleMarker object at 0x7fd3ce69f2e8>, <folium.vector_layers.CircleMarker object at 0x7fd3ce69f390>, <folium.vector_layers.CircleMarker object at 0x7fd3ce69f438>, <folium.vector_layers.CircleMarker object at 0x7fd3ce69f4e0>, <folium.vector_layers.CircleMarker object at 0x7fd3ce709da0>, <folium.vector_layers.CircleMarker object at 0x7fd3ce7099b0>, <folium.vector_layers.CircleMarker object at 0x7fd3ce709ac8>, <folium.vector_layers.CircleMarker object at 0x7fd3ce7095c0>, <folium.vector_layers.CircleMarker object at 0x7fd3ce709438>, <folium.vector_layers.CircleMarker object at 0x7fd3ce709dd8>, <folium.vector_layers.CircleMarker object at 0x7fd3ce6deb70>, <folium.vector_layers.CircleMarker object at 0x7fd3ce7096d8>, <folium.vector_layers.CircleMarker object at 0x7fd3ce6f61d0>, <folium.vector_layers.CircleMarker object at 0x7fd3ce6f6e48>, <folium.vector_layers.CircleMarker object at 0x7fd3ce69f400>, <folium.vector_layers.CircleMarker object at 0x7fd3ce69f2b0>, <folium.vector_layers.CircleMarker object at 0x7fd3ce69f0f0>, <folium.vector_layers.CircleMarker object at 0x7fd3ce69f588>, <folium.vector_layers.CircleMarker object at 0x7fd3ce69f470>, <folium.vector_layers.CircleMarker object at 0x7fd3ce69f6a0>, <folium.vector_layers.CircleMarker object at 0x7fd3ce69f6d8>, <folium.vector_layers.CircleMarker object at 0x7fd3ce69f780>, <folium.vector_layers.CircleMarker object at 0x7fd3ce69f828>, <folium.vector_layers.CircleMarker object at 0x7fd3ce69f8d0>, <folium.vector_layers.CircleMarker object at 0x7fd3ce69f978>, <folium.vector_layers.CircleMarker object at 0x7fd3ce69fa20>, <folium.vector_layers.CircleMarker object at 0x7fd3ce6de710>, <folium.vector_layers.CircleMarker object at 0x7fd3ce6f6e10>, <folium.vector_layers.CircleMarker object at 0x7fd3ce709978>, <folium.vector_layers.CircleMarker object at 0x7fd3ce709f98>, <folium.vector_layers.CircleMarker object at 0x7fd3ce7098d0>, <folium.vector_layers.CircleMarker object at 0x7fd3ce709a20>, <folium.vector_layers.CircleMarker object at 0x7fd3ce69f860>, <folium.vector_layers.CircleMarker object at 0x7fd3ce69f898>, <folium.vector_layers.CircleMarker object at 0x7fd3ce69f748>, <folium.vector_layers.CircleMarker object at 0x7fd3ce69f080>, <folium.vector_layers.CircleMarker object at 0x7fd3ce69f5c0>, <folium.vector_layers.CircleMarker object at 0x7fd3ce69f278>, <folium.vector_layers.CircleMarker object at 0x7fd3ce69f358>, <folium.vector_layers.CircleMarker object at 0x7fd3ce69fac8>, <folium.vector_layers.CircleMarker object at 0x7fd3ce69f9b0>, <folium.vector_layers.CircleMarker object at 0x7fd3ce69fbe0>, <folium.vector_layers.CircleMarker object at 0x7fd3ce69fc18>, <folium.vector_layers.CircleMarker object at 0x7fd3ce69fcc0>, <folium.vector_layers.CircleMarker object at 0x7fd3ce69fd68>, <folium.vector_layers.CircleMarker object at 0x7fd3ce69fe10>, <folium.vector_layers.CircleMarker object at 0x7fd3ce69feb8>, <folium.vector_layers.CircleMarker object at 0x7fd3ce69ff60>, <folium.vector_layers.CircleMarker object at 0x7fd3ce7090b8>, <folium.vector_layers.CircleMarker object at 0x7fd3ce78f9b0>, <folium.vector_layers.CircleMarker object at 0x7fd3ce709320>, <folium.vector_layers.CircleMarker object at 0x7fd3ce709e48>, <folium.vector_layers.CircleMarker object at 0x7fd3ce709ba8>, <folium.vector_layers.CircleMarker object at 0x7fd3ce6f6f98>, <folium.vector_layers.CircleMarker object at 0x7fd3ce6f6668>, <folium.vector_layers.CircleMarker object at 0x7fd3ce6f6ba8>, <folium.vector_layers.CircleMarker object at 0x7fd3ce69fe80>, <folium.vector_layers.CircleMarker object at 0x7fd3ce69fd30>, <folium.vector_layers.CircleMarker object at 0x7fd3ce69fb38>, <folium.vector_layers.CircleMarker object at 0x7fd3ce69fba8>, <folium.vector_layers.CircleMarker object at 0x7fd3ce69f160>, <folium.vector_layers.CircleMarker object at 0x7fd3ce69f0b8>, <folium.vector_layers.CircleMarker object at 0x7fd3ce69f518>, <folium.vector_layers.CircleMarker object at 0x7fd3ce69f208>, <folium.vector_layers.CircleMarker object at 0x7fd3ce69f940>, <folium.vector_layers.CircleMarker object at 0x7fd3ce69f550>, <folium.vector_layers.CircleMarker object at 0x7fd3ce69f7b8>, <folium.vector_layers.CircleMarker object at 0x7fd3ce69fe48>, <folium.vector_layers.CircleMarker object at 0x7fd3ce6b2080>, <folium.vector_layers.CircleMarker object at 0x7fd3ce6b2160>, <folium.vector_layers.CircleMarker object at 0x7fd3ce69fda0>, <folium.vector_layers.CircleMarker object at 0x7fd3ce69f1d0>, <folium.vector_layers.CircleMarker object at 0x7fd3ce69f710>, <folium.vector_layers.CircleMarker object at 0x7fd3ce69f320>, <folium.vector_layers.CircleMarker object at 0x7fd3ce69fb00>, <folium.vector_layers.CircleMarker object at 0x7fd3ce69fcf8>, <folium.vector_layers.CircleMarker object at 0x7fd3ce6dea90>, <folium.vector_layers.CircleMarker object at 0x7fd3ce6f6048>, <folium.vector_layers.CircleMarker object at 0x7fd3ce6f6f60>, <folium.vector_layers.CircleMarker object at 0x7fd3ce69ff28>, <folium.vector_layers.CircleMarker object at 0x7fd3ce709048>, <folium.vector_layers.CircleMarker object at 0x7fd3ce709cc0>, <folium.vector_layers.CircleMarker object at 0x7fd3ce709fd0>, <folium.vector_layers.CircleMarker object at 0x7fd3ce6b2208>, <folium.vector_layers.CircleMarker object at 0x7fd3ce6b20f0>, <folium.vector_layers.CircleMarker object at 0x7fd3ce6b2390>, <folium.vector_layers.CircleMarker object at 0x7fd3ce6b23c8>, <folium.vector_layers.CircleMarker object at 0x7fd3ce6b2470>, <folium.vector_layers.CircleMarker object at 0x7fd3ce6b2518>, <folium.vector_layers.CircleMarker object at 0x7fd3ce6b25c0>, <folium.vector_layers.CircleMarker object at 0x7fd3ce6b2668>, <folium.vector_layers.CircleMarker object at 0x7fd3ce6b2710>, <folium.vector_layers.CircleMarker object at 0x7fd3ce6f6c18>, <folium.vector_layers.CircleMarker object at 0x7fd3ce7090f0>, <folium.vector_layers.CircleMarker object at 0x7fd3ce7094e0>, <folium.vector_layers.CircleMarker object at 0x7fd3ce69fdd8>, <folium.vector_layers.CircleMarker object at 0x7fd3ce69f4a8>, <folium.vector_layers.CircleMarker object at 0x7fd3ce69f630>, <folium.vector_layers.CircleMarker object at 0x7fd3ce69f5f8>, <folium.vector_layers.CircleMarker object at 0x7fd3ce69f3c8>, <folium.vector_layers.CircleMarker object at 0x7fd3ce6b2550>, <folium.vector_layers.CircleMarker object at 0x7fd3ce6b2588>, <folium.vector_layers.CircleMarker object at 0x7fd3ce6b2438>, <folium.vector_layers.CircleMarker object at 0x7fd3ce6b2048>, <folium.vector_layers.CircleMarker object at 0x7fd3ce6b22e8>, <folium.vector_layers.CircleMarker object at 0x7fd3ce6b27b8>, <folium.vector_layers.CircleMarker object at 0x7fd3ce6b26a0>, <folium.vector_layers.CircleMarker object at 0x7fd3ce6b28d0>, <folium.vector_layers.CircleMarker object at 0x7fd3ce6b2908>, <folium.vector_layers.CircleMarker object at 0x7fd3ce6b29b0>, <folium.vector_layers.CircleMarker object at 0x7fd3ce6b2a58>, <folium.vector_layers.CircleMarker object at 0x7fd3ce6b2b00>, <folium.vector_layers.CircleMarker object at 0x7fd3ce6b2ba8>, <folium.vector_layers.CircleMarker object at 0x7fd3ce6b2c50>, <folium.vector_layers.CircleMarker object at 0x7fd3ce69f908>, <folium.vector_layers.CircleMarker object at 0x7fd3ce6f6da0>, <folium.vector_layers.CircleMarker object at 0x7fd3ce69fb70>, <folium.vector_layers.CircleMarker object at 0x7fd3ce709cf8>, <folium.vector_layers.CircleMarker object at 0x7fd3ce69f9e8>, <folium.vector_layers.CircleMarker object at 0x7fd3ce6b2a90>, <folium.vector_layers.CircleMarker object at 0x7fd3ce6b2ac8>, <folium.vector_layers.CircleMarker object at 0x7fd3ce6b2978>, <folium.vector_layers.CircleMarker object at 0x7fd3ce6b20b8>, <folium.vector_layers.CircleMarker object at 0x7fd3ce6b27f0>, <folium.vector_layers.CircleMarker object at 0x7fd3ce6b2198>, <folium.vector_layers.CircleMarker object at 0x7fd3ce6b2240>, <folium.vector_layers.CircleMarker object at 0x7fd3ce6b2630>, <folium.vector_layers.CircleMarker object at 0x7fd3ce6b2cf8>, <folium.vector_layers.CircleMarker object at 0x7fd3ce6b2be0>, <folium.vector_layers.CircleMarker object at 0x7fd3ce6b2e10>, <folium.vector_layers.CircleMarker object at 0x7fd3ce6b2e48>, <folium.vector_layers.CircleMarker object at 0x7fd3ce6b2ef0>, <folium.vector_layers.CircleMarker object at 0x7fd3ce6b2f98>, <folium.vector_layers.CircleMarker object at 0x7fd3ce6b2f28>, <folium.vector_layers.CircleMarker object at 0x7fd3ce6c70b8>, <folium.vector_layers.CircleMarker object at 0x7fd3ce6c71d0>, <folium.vector_layers.CircleMarker object at 0x7fd3ce6b29e8>, <folium.vector_layers.CircleMarker object at 0x7fd3ce6b2da0>, <folium.vector_layers.CircleMarker object at 0x7fd3ce6b2dd8>, <folium.vector_layers.CircleMarker object at 0x7fd3ce6b22b0>, <folium.vector_layers.CircleMarker object at 0x7fd3ce6b24e0>, <folium.vector_layers.CircleMarker object at 0x7fd3ce6b2828>, <folium.vector_layers.CircleMarker object at 0x7fd3ce709f28>, <folium.vector_layers.CircleMarker object at 0x7fd3ce6f60b8>, <folium.vector_layers.CircleMarker object at 0x7fd3ce6b2b70>, <folium.vector_layers.CircleMarker object at 0x7fd3ce6b2940>, <folium.vector_layers.CircleMarker object at 0x7fd3ce6b2860>, <folium.vector_layers.CircleMarker object at 0x7fd3ce69f7f0>, <folium.vector_layers.CircleMarker object at 0x7fd3ce69f198>, <folium.vector_layers.CircleMarker object at 0x7fd3ce6c7048>, <folium.vector_layers.CircleMarker object at 0x7fd3ce6c70f0>, <folium.vector_layers.CircleMarker object at 0x7fd3ce6c7390>, <folium.vector_layers.CircleMarker object at 0x7fd3ce6c73c8>, <folium.vector_layers.CircleMarker object at 0x7fd3ce6c7470>, <folium.vector_layers.CircleMarker object at 0x7fd3ce6c7518>, <folium.vector_layers.CircleMarker object at 0x7fd3ce6c75c0>, <folium.vector_layers.CircleMarker object at 0x7fd3ce6c7668>, <folium.vector_layers.CircleMarker object at 0x7fd3ce6c7710>, <folium.vector_layers.CircleMarker object at 0x7fd3ce709390>, <folium.vector_layers.CircleMarker object at 0x7fd3ce69fc88>, <folium.vector_layers.CircleMarker object at 0x7fd3ce6b25f8>, <folium.vector_layers.CircleMarker object at 0x7fd3ce6b2b38>, <folium.vector_layers.CircleMarker object at 0x7fd3ce6b2400>, <folium.vector_layers.CircleMarker object at 0x7fd3ce6b2c88>, <folium.vector_layers.CircleMarker object at 0x7fd3ce6b2d68>, <folium.vector_layers.CircleMarker object at 0x7fd3ce6b2fd0>, <folium.vector_layers.CircleMarker object at 0x7fd3ce6b2d30>, <folium.vector_layers.CircleMarker object at 0x7fd3ce6c7400>, <folium.vector_layers.CircleMarker object at 0x7fd3ce6c7320>, <folium.vector_layers.CircleMarker object at 0x7fd3ce6c7198>, <folium.vector_layers.CircleMarker object at 0x7fd3ce6c72b0>, <folium.vector_layers.CircleMarker object at 0x7fd3ce6c7240>, <folium.vector_layers.CircleMarker object at 0x7fd3ce6c7828>, <folium.vector_layers.CircleMarker object at 0x7fd3ce6c7860>, <folium.vector_layers.CircleMarker object at 0x7fd3ce6c7748>, <folium.vector_layers.CircleMarker object at 0x7fd3ce6c7940>, <folium.vector_layers.CircleMarker object at 0x7fd3ce6c79e8>, <folium.vector_layers.CircleMarker object at 0x7fd3ce6c7a90>, <folium.vector_layers.CircleMarker object at 0x7fd3ce6c7b38>, <folium.vector_layers.CircleMarker object at 0x7fd3ce6b2a20>, <folium.vector_layers.CircleMarker object at 0x7fd3ce6b2e80>, <folium.vector_layers.CircleMarker object at 0x7fd3ce6b2320>, <folium.vector_layers.CircleMarker object at 0x7fd3ce69fa58>, <folium.vector_layers.CircleMarker object at 0x7fd3ce69fa90>, <folium.vector_layers.CircleMarker object at 0x7fd3ce6b2278>, <folium.vector_layers.CircleMarker object at 0x7fd3ce6c7b00>, <folium.vector_layers.CircleMarker object at 0x7fd3ce6c79b0>, <folium.vector_layers.CircleMarker object at 0x7fd3ce6c75f8>, <folium.vector_layers.CircleMarker object at 0x7fd3ce6c76a0>, <folium.vector_layers.CircleMarker object at 0x7fd3ce6c7438>, <folium.vector_layers.CircleMarker object at 0x7fd3ce6c7358>, <folium.vector_layers.CircleMarker object at 0x7fd3ce6c74e0>, <folium.vector_layers.CircleMarker object at 0x7fd3ce6c7550>, <folium.vector_layers.CircleMarker object at 0x7fd3ce6c7ac8>, <folium.vector_layers.CircleMarker object at 0x7fd3ce6c7cf8>, <folium.vector_layers.CircleMarker object at 0x7fd3ce6c7d30>, <folium.vector_layers.CircleMarker object at 0x7fd3ce6c7dd8>, <folium.vector_layers.CircleMarker object at 0x7fd3ce6c7e80>, <folium.vector_layers.CircleMarker object at 0x7fd3ce6c7f28>, <folium.vector_layers.CircleMarker object at 0x7fd3ce6c7fd0>, <folium.vector_layers.CircleMarker object at 0x7fd3ce6c7eb8>, <folium.vector_layers.CircleMarker object at 0x7fd3ce6c7be0>, <folium.vector_layers.CircleMarker object at 0x7fd3ce6c7ef0>, <folium.vector_layers.CircleMarker object at 0x7fd3ce6c7780>, <folium.vector_layers.CircleMarker object at 0x7fd3ce6c7cc0>, <folium.vector_layers.CircleMarker object at 0x7fd3ce6c7128>, <folium.vector_layers.CircleMarker object at 0x7fd3ce6c7278>, <folium.vector_layers.CircleMarker object at 0x7fd3ce6c77f0>, <folium.vector_layers.CircleMarker object at 0x7fd3ce69fc50>, <folium.vector_layers.CircleMarker object at 0x7fd3ce6c7908>, <folium.vector_layers.CircleMarker object at 0x7fd3ce6c7a58>, <folium.vector_layers.CircleMarker object at 0x7fd3ce6c7898>, <folium.vector_layers.CircleMarker object at 0x7fd3ce6b2358>, <folium.vector_layers.CircleMarker object at 0x7fd3ce6b2748>, <folium.vector_layers.CircleMarker object at 0x7fd3ce6b2898>, <folium.vector_layers.CircleMarker object at 0x7fd3ce6d9128>, <folium.vector_layers.CircleMarker object at 0x7fd3ce6d9208>, <folium.vector_layers.CircleMarker object at 0x7fd3ce6d92b0>, <folium.vector_layers.CircleMarker object at 0x7fd3ce6d9358>, <folium.vector_layers.CircleMarker object at 0x7fd3ce6d9400>, <folium.vector_layers.CircleMarker object at 0x7fd3ce6d94a8>]\n"
     ]
    }
   ],
   "source": [
    "map_with_markers = add_markers(trip_markers, manhattan_map)"
   ]
  },
  {
   "cell_type": "code",
   "execution_count": 99,
   "metadata": {},
   "outputs": [
    {
     "ename": "AttributeError",
     "evalue": "'CircleMarker' object has no attribute '_repr_html_'",
     "output_type": "error",
     "traceback": [
      "\u001b[0;31m\u001b[0m",
      "\u001b[0;31mAttributeError\u001b[0mTraceback (most recent call last)",
      "\u001b[0;32m/opt/conda/envs/learn-env/lib/python3.6/site-packages/IPython/core/formatters.py\u001b[0m in \u001b[0;36m__call__\u001b[0;34m(self, obj)\u001b[0m\n\u001b[1;32m    343\u001b[0m             \u001b[0mmethod\u001b[0m \u001b[0;34m=\u001b[0m \u001b[0mget_real_method\u001b[0m\u001b[0;34m(\u001b[0m\u001b[0mobj\u001b[0m\u001b[0;34m,\u001b[0m \u001b[0mself\u001b[0m\u001b[0;34m.\u001b[0m\u001b[0mprint_method\u001b[0m\u001b[0;34m)\u001b[0m\u001b[0;34m\u001b[0m\u001b[0m\n\u001b[1;32m    344\u001b[0m             \u001b[0;32mif\u001b[0m \u001b[0mmethod\u001b[0m \u001b[0;32mis\u001b[0m \u001b[0;32mnot\u001b[0m \u001b[0;32mNone\u001b[0m\u001b[0;34m:\u001b[0m\u001b[0;34m\u001b[0m\u001b[0m\n\u001b[0;32m--> 345\u001b[0;31m                 \u001b[0;32mreturn\u001b[0m \u001b[0mmethod\u001b[0m\u001b[0;34m(\u001b[0m\u001b[0;34m)\u001b[0m\u001b[0;34m\u001b[0m\u001b[0m\n\u001b[0m\u001b[1;32m    346\u001b[0m             \u001b[0;32mreturn\u001b[0m \u001b[0;32mNone\u001b[0m\u001b[0;34m\u001b[0m\u001b[0m\n\u001b[1;32m    347\u001b[0m         \u001b[0;32melse\u001b[0m\u001b[0;34m:\u001b[0m\u001b[0;34m\u001b[0m\u001b[0m\n",
      "\u001b[0;32m/opt/conda/envs/learn-env/lib/python3.6/site-packages/folium/folium.py\u001b[0m in \u001b[0;36m_repr_html_\u001b[0;34m(self, **kwargs)\u001b[0m\n\u001b[1;32m    284\u001b[0m             \u001b[0mself\u001b[0m\u001b[0;34m.\u001b[0m\u001b[0m_parent\u001b[0m \u001b[0;34m=\u001b[0m \u001b[0;32mNone\u001b[0m\u001b[0;34m\u001b[0m\u001b[0m\n\u001b[1;32m    285\u001b[0m         \u001b[0;32melse\u001b[0m\u001b[0;34m:\u001b[0m\u001b[0;34m\u001b[0m\u001b[0m\n\u001b[0;32m--> 286\u001b[0;31m             \u001b[0mout\u001b[0m \u001b[0;34m=\u001b[0m \u001b[0mself\u001b[0m\u001b[0;34m.\u001b[0m\u001b[0m_parent\u001b[0m\u001b[0;34m.\u001b[0m\u001b[0m_repr_html_\u001b[0m\u001b[0;34m(\u001b[0m\u001b[0;34m**\u001b[0m\u001b[0mkwargs\u001b[0m\u001b[0;34m)\u001b[0m\u001b[0;34m\u001b[0m\u001b[0m\n\u001b[0m\u001b[1;32m    287\u001b[0m         \u001b[0;32mreturn\u001b[0m \u001b[0mout\u001b[0m\u001b[0;34m\u001b[0m\u001b[0m\n\u001b[1;32m    288\u001b[0m \u001b[0;34m\u001b[0m\u001b[0m\n",
      "\u001b[0;31mAttributeError\u001b[0m: 'CircleMarker' object has no attribute '_repr_html_'"
     ]
    },
    {
     "data": {
      "text/plain": [
       "<folium.folium.Map at 0x7fd3ce87d080>"
      ]
     },
     "execution_count": 99,
     "metadata": {},
     "output_type": "execute_result"
    }
   ],
   "source": [
    "map_with_markers"
   ]
  },
  {
   "cell_type": "markdown",
   "metadata": {},
   "source": [
    "### Using Nearest Neighbors"
   ]
  },
  {
   "cell_type": "markdown",
   "metadata": {},
   "source": [
    "Ok, let's write a function that given a latitude and longitude will predict the distance for us.  We'll do this by first finding the nearest trips given a latitude and longitude. "
   ]
  },
  {
   "cell_type": "markdown",
   "metadata": {},
   "source": [
    "Here we once again apply the nearest neighbors formula. As a first step, write a function named `distance_location` that calculates the distance in pickup location between two trips."
   ]
  },
  {
   "cell_type": "code",
   "execution_count": null,
   "metadata": {},
   "outputs": [],
   "source": [
    "import math\n",
    "\n",
    "def distance_location(selected_trip, neighbor_trip):\n",
    "    pass"
   ]
  },
  {
   "cell_type": "code",
   "execution_count": null,
   "metadata": {},
   "outputs": [],
   "source": [
    "first_trip = {'pickup_latitude': 40.64499, 'pickup_longitude': -73.78115, 'trip_distance': 18.38}\n",
    "second_trip = {'pickup_latitude': 40.766931, 'pickup_longitude': -73.982098, 'trip_distance': 1.3}\n",
    "distance_first_and_second = distance_location(first_trip, second_trip)\n",
    "\n",
    "distance_first_and_second and round(distance_first_and_second, 3) # 0.235"
   ]
  },
  {
   "cell_type": "markdown",
   "metadata": {},
   "source": [
    "Ok, next write a function called `distance_between_neighbors` that adds a new key-value pair, called `distance_from_selected`, that calculates the distance of the `neighbor_trip` from the `selected_trip`."
   ]
  },
  {
   "cell_type": "code",
   "execution_count": null,
   "metadata": {},
   "outputs": [],
   "source": [
    "def distance_between_neighbors(selected_trip, neighbor_trip):\n",
    "    pass"
   ]
  },
  {
   "cell_type": "code",
   "execution_count": null,
   "metadata": {},
   "outputs": [],
   "source": [
    "distance_between_neighbors(first_trip, second_trip)\n",
    "\n",
    "# {'distance_from_selected': 0.23505256047318146,\n",
    "#  'pickup_latitude': 40.766931,\n",
    "#  'pickup_longitude': -73.982098,\n",
    "#  'trip_distance': 1.3}"
   ]
  },
  {
   "cell_type": "markdown",
   "metadata": {},
   "source": [
    "Ok, now our `neighbor_trip` has another attribute called `distance_from_selected`, that indicates the distance from the `neighbor_trip`'s pickup location from the `selected_trip`."
   ]
  },
  {
   "cell_type": "markdown",
   "metadata": {},
   "source": [
    "> ** Understand the data:** Our dictionary now has a few attributes, two of which say distance.  Let's make sure we understand the difference. \n",
    "> * **`distance_from_selected`:** This is our calculation of the distance of the neighbor's pickup location from the selected trip.\n",
    "> * **`trip_distance`:** This is the attribute we were provided initially.  It tells us the length of the neighbor's taxi trip from pickup to drop-off.  "
   ]
  },
  {
   "cell_type": "markdown",
   "metadata": {},
   "source": [
    "Next, write a function called `distance_all` that provided a list of neighbors, returns each of those neighbors with their respective `distance_from_selected` numbers."
   ]
  },
  {
   "cell_type": "code",
   "execution_count": null,
   "metadata": {},
   "outputs": [],
   "source": [
    "def distance_all(selected_individual, neighbors):\n",
    "    pass"
   ]
  },
  {
   "cell_type": "code",
   "execution_count": null,
   "metadata": {},
   "outputs": [],
   "source": [
    "cleaned_trips and distance_all(first_trip, cleaned_trips[0:4])"
   ]
  },
  {
   "cell_type": "markdown",
   "metadata": {},
   "source": [
    "Now write the nearest neighbors formula to calculate the distance of the `selected_trip` from all of the `cleaned_trips` in our dataset.  If no number is provided, it should return the top 3 neighbors."
   ]
  },
  {
   "cell_type": "code",
   "execution_count": null,
   "metadata": {},
   "outputs": [],
   "source": [
    "def nearest_neighbors(selected_trip, trips, number = 3):\n",
    "    pass"
   ]
  },
  {
   "cell_type": "code",
   "execution_count": null,
   "metadata": {},
   "outputs": [],
   "source": [
    "new_trip = {'pickup_latitude': 40.64499,\n",
    "'pickup_longitude': -73.78115,\n",
    "'trip_distance': 18.38}\n",
    "\n",
    "nearest_three_neighbors = nearest_neighbors(new_trip, cleaned_trips or [], number = 3)\n",
    "nearest_three_neighbors\n",
    "# [{'distance_from_selected': 0.0004569288784918792,\n",
    "#   'pickup_latitude': 40.64483,\n",
    "#   'pickup_longitude': -73.781578,\n",
    "#   'trip_distance': 7.78},\n",
    "#  {'distance_from_selected': 0.0011292165425673159,\n",
    "#   'pickup_latitude': 40.644657,\n",
    "#   'pickup_longitude': -73.782229,\n",
    "#   'trip_distance': 12.7},\n",
    "#  {'distance_from_selected': 0.0042359798158141185,\n",
    "#   'pickup_latitude': 40.648509,\n",
    "#   'pickup_longitude': -73.783508,\n",
    "#   'trip_distance': 17.3}]"
   ]
  },
  {
   "cell_type": "markdown",
   "metadata": {},
   "source": [
    "Ok great! Now that we can provide a new trip location, and find the distances of the three nearest trips, we can take  calculate an estimate of the trip distance for that new trip location.  \n",
    "\n",
    "We do so simply by calculating the average of it's nearest neighbors."
   ]
  },
  {
   "cell_type": "code",
   "execution_count": null,
   "metadata": {},
   "outputs": [],
   "source": [
    "import statistics\n",
    "def mean_distance(neighbors):\n",
    "    nearest_distances = list(map(lambda neighbor: neighbor['trip_distance'], neighbors))\n",
    "    return round(statistics.mean(nearest_distances), 3)\n",
    "\n",
    "nearest_three_neighbors = nearest_neighbors(new_trip, cleaned_trips or [], number = 3)\n",
    "distance_estimate_of_selected_trip = mean_distance(nearest_three_neighbors) # 12.593\n",
    "distance_estimate_of_selected_trip"
   ]
  },
  {
   "cell_type": "markdown",
   "metadata": {},
   "source": [
    "### Choosing the correct number of neighbors"
   ]
  },
  {
   "cell_type": "markdown",
   "metadata": {},
   "source": [
    "Now, as we know from the last lesson, one tricky element is to determine how many neighbors to choose, our $k$ value,  before calculating the average.  We want to choose our value of $k$ such that it properly matches actual data, and so that it applies to new data.  There are fancy formulas to ensure that we **train** our algorithm so that our formula is optimized for all data, but here let's see different $k$ values manually.  This is the gist of choosing our $k$ value:\n",
    "\n",
    "* If we choose a $k$ value too low, our formula will be too heavily influenced by a single neighbor, whereas if our $k$ value is too high, we will be choosing so many neighbors that our nearest neighbors formula will not be adjust enough according to locations.\n",
    "\n",
    "Ok, let's experiment with this."
   ]
  },
  {
   "cell_type": "markdown",
   "metadata": {},
   "source": [
    "First, let's choose a midtown location, to see what the trip distance would be.  A Google search reveals the coordinates of 51st and 7th avenue to be the following."
   ]
  },
  {
   "cell_type": "code",
   "execution_count": null,
   "metadata": {},
   "outputs": [],
   "source": [
    "midtown_trip = dict(pickup_latitude=40.761710, pickup_longitude=-73.982760)"
   ]
  },
  {
   "cell_type": "code",
   "execution_count": null,
   "metadata": {},
   "outputs": [],
   "source": [
    "seven_closest = nearest_neighbors(midtown_trip, cleaned_trips, number = 7)\n",
    "seven_closest\n",
    "# [{'trip_distance': 0.58,\n",
    "#   'pickup_latitude': 40.761372,\n",
    "#   'pickup_longitude': -73.982602,\n",
    "#   'distance_from_selected': 0.00037310588309379025},\n",
    "#  {'trip_distance': 0.8,\n",
    "#   'pickup_latitude': 40.762444,\n",
    "#   'pickup_longitude': -73.98244,\n",
    "#   'distance_from_selected': 0.00080072217404248},\n",
    "#  {'trip_distance': 1.4,\n",
    "#   'pickup_latitude': 40.762767,\n",
    "#   'pickup_longitude': -73.982293,\n",
    "#   'distance_from_selected': 0.0011555682584735844},\n",
    "#  {'trip_distance': 8.3,\n",
    "#   'pickup_latitude': 40.762868,\n",
    "#   'pickup_longitude': -73.983233,\n",
    "#   'distance_from_selected': 0.0012508768924205918},\n",
    "#  {'trip_distance': 1.26,\n",
    "#   'pickup_latitude': 40.760057,\n",
    "#   'pickup_longitude': -73.983502,\n",
    "#   'distance_from_selected': 0.0018118976240381972},\n",
    "#  {'trip_distance': 0.0,\n",
    "#   'pickup_latitude': 40.760644,\n",
    "#   'pickup_longitude': -73.984531,\n",
    "#   'distance_from_selected': 0.002067074502774709},\n",
    "#  {'trip_distance': 1.72,\n",
    "#   'pickup_latitude': 40.762107,\n",
    "#   'pickup_longitude': -73.98479,\n",
    "#   'distance_from_selected': 0.0020684557041472677}]"
   ]
  },
  {
   "cell_type": "markdown",
   "metadata": {},
   "source": [
    "Looking at the `distance_from_selected` it appears that our our trips are still fairly close to our selected trip.  Notice that most of the data is within a distance of .002 away, so going to the top 7 nearest neighbors didn't seem to give us neighbors too far from each other, which is a good sign.\n",
    "\n",
    "Still, it's hard to know what distance in latitude and longitude really look like, so let's map the data. "
   ]
  },
  {
   "cell_type": "code",
   "execution_count": null,
   "metadata": {},
   "outputs": [],
   "source": [
    "midtown_location = location(midtown_trip) # [40.76171, -73.98276]\n",
    "midtown_map = map_from(midtown_location, 16)\n",
    "closest_markers = markers_from_trips(seven_closest)\n",
    "\n",
    "add_markers(closest_markers, midtown_map)"
   ]
  },
  {
   "cell_type": "markdown",
   "metadata": {},
   "source": [
    "Ok.  These locations stay fairly close to our estimated location of 51st street and 7th Avenue.  So they could be a good estimate of a trip distance."
   ]
  },
  {
   "cell_type": "code",
   "execution_count": null,
   "metadata": {},
   "outputs": [],
   "source": [
    "mean_distance(seven_closest) # 2.009"
   ]
  },
  {
   "cell_type": "markdown",
   "metadata": {},
   "source": [
    "Ok, now let's try a different location"
   ]
  },
  {
   "cell_type": "code",
   "execution_count": null,
   "metadata": {},
   "outputs": [],
   "source": [
    "charging_bull_closest = nearest_neighbors({'pickup_latitude': 40.7049, 'pickup_longitude': -74.0137}, cleaned_trips, number = 12)"
   ]
  },
  {
   "cell_type": "code",
   "execution_count": null,
   "metadata": {
    "scrolled": true
   },
   "outputs": [],
   "source": [
    "mean_distance(charging_bull_closest) # 3.145"
   ]
  },
  {
   "cell_type": "markdown",
   "metadata": {},
   "source": [
    "Ok, so there appears to be a significant difference between choosing a location near Times Square versus choosing a location at Wall Street."
   ]
  },
  {
   "cell_type": "markdown",
   "metadata": {},
   "source": [
    "### Summary"
   ]
  },
  {
   "cell_type": "markdown",
   "metadata": {},
   "source": [
    "In this lab, we used the nearest neighbors function to predict the length of a taxi ride.  To do so, we selected a location, then found a number of taxi rides closest to that location, and finally took the average trip lengths of the nearest taxi rides to find an estimate of the new ride's trip length.  You can see that even with just a little bit of math and programming we can begin to make meaningful predictions with data."
   ]
  }
 ],
 "metadata": {
  "kernelspec": {
   "display_name": "Python 3",
   "language": "python",
   "name": "python3"
  },
  "language_info": {
   "codemirror_mode": {
    "name": "ipython",
    "version": 3
   },
   "file_extension": ".py",
   "mimetype": "text/x-python",
   "name": "python",
   "nbconvert_exporter": "python",
   "pygments_lexer": "ipython3",
   "version": "3.6.6"
  }
 },
 "nbformat": 4,
 "nbformat_minor": 2
}
